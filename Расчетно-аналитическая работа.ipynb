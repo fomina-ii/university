{
 "cells": [
  {
   "cell_type": "markdown",
   "metadata": {},
   "source": [
    "# Вводные данные:  \n",
    "###    Вариант №  3331:\n",
    "* **Тикер 1:** Мегион-ао\n",
    "* **Тикер 2:** Якутскэнрг\n",
    "* **Тикер 3:** Сбербанк\n",
    "* **Начало временного интервала:**      2008-09-26\n",
    "* **Окончание временного интервала:**   2022-09-05\n",
    "\n",
    "## Задание\n",
    "1. Соберите дневные данные о ценах закрытия и объемах торгов по акциям трех компаний, обращающимся на Московской бирже, с начальной даты, указанной в задании, по «сегодняшний» день (день на момент скачивания). Дальнейшая обработка разбивается на две части:\n",
    "    * Обработка совместных данных для всех трёх компаний (диаграммы рассеяния в п.3.5*, корреляционный анализ, двухвыборочные тесты). Для этой части создается отдельный лист, на котором совместно анализируются данные всех компаний\n",
    "    * Обработка данных отдельно для каждой компании. Для этой части создаются три отдельных листа, каждый из которых соответствует одной компании.\n",
    "2. Удалите строки, соответствующие датам, в которые не было торгов хотя бы у одного из трех эмитентов (пропущенные, или нулевые значения объемов торгов)\n",
    "3. Рассчитайте для каждой компании дневные логдоходности.\n",
    "    * 3.1 Для каждой компании посчитайте количество строк, в которых значение логдоходности оказалось строго равно 0.\n",
    "    * 3.2. Скопируйте данные по каждой компании на три отдельных листа (один лист – одна компания) и удалите строки с нулями логдоходности.\n",
    "    * 3.3*. Постройте для каждой компании графики цен от времени. Прослеживаются ли какие-нибудь зависимости цен от времени?\n",
    "    * 3.4*. Для одной из компаний постройте по три диаграммы рассеяния для каждой пары признаков. Между какими признаками можно предположить наличие зависимости?\n",
    "    * 3.5*. Постройте три диаграммы рассеяния логдоходности для каждой пары компаний.\n",
    "    * 3.6*. Рассчитайте корреляционную матрицу для тройки компаний.\n",
    "    * 3.7.* Проверьте гипотезы о незначимости коэффициентов корреляции для тройки компаний.\n",
    "    * 3.8*. Постройте диаграммы размаха логдоходности для каждой компании.\n",
    "    * 3.9*. Для тройки компаний постройте диаграммы оптимальности по Парето и определите акции, оптимальные по Парето.\n",
    "4. Постройте гистограммы интервальных частот цен и логдоходностей и опишите их: являются ли они симметричными или скошенными, похожи ли они на «колокол» нормального распределения.\n",
    "    * 4.1*. Укажите на графиках асимметрию и эксцесс, полученные в п. 5, а также результаты проверки гипотез о нормальности распределений, полученные в п. 10.\n",
    "5. С помощью программы «Описательная статистика» определите основные статистические показатели для логдоходностей. \n",
    "6. Скопируйте данные для каждой отдельной компании на отдельный лист (всего три дополнительных листа) и удалите строки с выбросами логдоходности.\n",
    "7. Постройте гистограммы интервальных частот логдоходности без выбросов.\n",
    "    * 7.1*. Постройте графики эмпирической плотности для логдоходности в R с выбросами и без выбросов\n",
    "    * 7.2*. Постройте графики выборочных функций распределения для логдоходности с выбросами и без выбросов.\n",
    "    * 7.3**. В предположении нормального закона логдоходности для данных с не удалёнными выбросами замените параметры нормального закона a и  их несмещенными состоятельными оценками и рассчитайте значения функции плотности нормального закона и функции распределения в правых концах интервалов. Для каждого из анализируемых признаков постройте на одном рисунке гистограмму частот и график теоретической функции плотности распределения, на другом эмпирическую и теоретическую функцию распределения.\n",
    "    * 7.4**. Выполните то же, что и в п. 7.3* для данных с удалёнными выбросами.\n",
    "8. Постройте 95%-ные доверительные интервалы для математических ожиданий и средних квадратических отклонений логдоходностей с выбросами.\n",
    "    * 8.1*. То же для данных с удалёнными выбросами.\n",
    "9. Для каждой компании проверьте на 5%-ном и 1%-ном уровне значимости гипотезу о том, что математическое ожидание логдоходности равно нулю при альтернативной гипотезе о том, что оно больше нуля. В каждом случае вычислите также наблюдаемый уровень значимости.\n",
    "    * 9.1* Для каждой пары компаний проверьте на 5%-ном и 1%-ном уровне значимости гипотезу о том, что математические ожидания логдоходностей этих эмитентов равны между собой (без какого-либо предположения о равенстве дисперсий) при альтернативной гипотезе о том, что они не равны.\n",
    "    * 9.2* Для каждой пары компаний проверьте на 5%-ном и 1%-ном уровне значимости гипотезу о том, что дисперсии логдоходностей этих эмитентов равны между собой при альтернативной гипотезе о том, что они не равны.\n",
    "10. Для каждой компании проверьте на 5%-ном уровне значимости гипотезы о нормальном законе распределения логдоходности для данных без удаления выбросов и нулей (критерий Хи-квадрат в Excel или критерий Лиллиефорса в R или и то и другое).\n",
    "    * 10.1.* Проведите эту проверку для данных с удалёнными выбросами\n",
    "    * 10.2*. Проверьте гипотезу о нормальности в Excel с помощью критерия Лиллиефорса.\n"
   ]
  },
  {
   "cell_type": "markdown",
   "metadata": {},
   "source": [
    "#### Загрузка библиотек"
   ]
  },
  {
   "cell_type": "code",
   "execution_count": 1,
   "metadata": {},
   "outputs": [
    {
     "name": "stdout",
     "output_type": "stream",
     "text": [
      "Populating the interactive namespace from numpy and matplotlib\n"
     ]
    }
   ],
   "source": [
    "import requests  # Для парсинга данных с сайтов\n",
    "import apimoex  # Для получения данных с Мосбиржи\n",
    "import scipy.stats as sts  # Для работы с вероятностными распределениями\n",
    "import numpy as np  # Для работы с массивами\n",
    "from scipy.stats import pearsonr  # Для коэффициента корреляции\n",
    "import pandas as pd  # Для работы с данными в виде таблиц\n",
    "import matplotlib.pyplot as plt  # Для построения графиков\n",
    "from scipy.stats import gaussian_kde \n",
    "import seaborn as sns  # Для построения графиков\n",
    "%pylab inline"
   ]
  },
  {
   "cell_type": "markdown",
   "metadata": {},
   "source": [
    "## Задание 1. Загрузка таблиц с Мосбиржи с помощью библиотек requersts и apimoex"
   ]
  },
  {
   "cell_type": "markdown",
   "metadata": {},
   "source": [
    "Загрузим и преобразуем таблицы и для удобства сохраним полученные таблицы в новый файл для дальнейшего использования"
   ]
  },
  {
   "cell_type": "code",
   "execution_count": 2,
   "metadata": {},
   "outputs": [
    {
     "name": "stdout",
     "output_type": "stream",
     "text": [
      "       MFGS_date  MFGS_price  MFGS_volume\n",
      "0     2014-06-09         NaN            0\n",
      "1     2014-06-10       501.1          400\n",
      "2     2014-06-11       502.0           40\n",
      "3     2014-06-16       517.6           30\n",
      "4     2014-06-17       529.9          590\n",
      "...          ...         ...          ...\n",
      "2211  2023-03-16       359.0          490\n",
      "2212  2023-03-17       358.0           80\n",
      "2213  2023-03-20       358.5          290\n",
      "2214  2023-03-21       369.5         1910\n",
      "2215  2023-03-22       364.5          230\n",
      "\n",
      "[2216 rows x 3 columns]\n"
     ]
    }
   ],
   "source": [
    "with requests.Session() as session:\n",
    "    data = apimoex.get_board_history(session, 'MFGS')          # Мегион-ао\n",
    "    MFGS = pd.DataFrame(data)\n",
    "    MFGS = MFGS.drop(columns={'BOARDID', 'VALUE'}, axis=1)\n",
    "    MFGS.rename(columns={'TRADEDATE' : 'MFGS_date',\n",
    "                       'CLOSE': 'MFGS_price',\n",
    "                       'VOLUME'  : 'MFGS_volume'}, inplace=True)\n",
    "    print(MFGS)"
   ]
  },
  {
   "cell_type": "code",
   "execution_count": 3,
   "metadata": {},
   "outputs": [
    {
     "name": "stdout",
     "output_type": "stream",
     "text": [
      "       YKEN_date  YKEN_price  YKEN_volume\n",
      "0     2014-06-09         NaN            0\n",
      "1     2014-06-10      0.1360        10000\n",
      "2     2014-06-11         NaN            0\n",
      "3     2014-06-16      0.1320       310000\n",
      "4     2014-06-17         NaN            0\n",
      "...          ...         ...          ...\n",
      "2211  2023-03-16      0.2935       490000\n",
      "2212  2023-03-17      0.2890      1730000\n",
      "2213  2023-03-20      0.2990     12420000\n",
      "2214  2023-03-21      0.2985       660000\n",
      "2215  2023-03-22      0.3035       280000\n",
      "\n",
      "[2216 rows x 3 columns]\n"
     ]
    }
   ],
   "source": [
    "with requests.Session() as session:\n",
    "    data = apimoex.get_board_history(session, 'YKEN')         # Якутскэнрг\n",
    "    YKEN = pd.DataFrame(data)\n",
    "    YKEN = YKEN.drop(columns={'BOARDID', 'VALUE'}, axis=1)\n",
    "    YKEN.rename(columns={'TRADEDATE' : 'YKEN_date',\n",
    "                       'CLOSE': 'YKEN_price',\n",
    "                       'VOLUME'  : 'YKEN_volume'}, inplace=True)\n",
    "    print(YKEN)"
   ]
  },
  {
   "cell_type": "code",
   "execution_count": 4,
   "metadata": {},
   "outputs": [
    {
     "name": "stdout",
     "output_type": "stream",
     "text": [
      "       SBER_date  SBER_price  SBER_volume\n",
      "0     2013-03-25       98.79       593680\n",
      "1     2013-03-26       97.20      1283550\n",
      "2     2013-03-27       96.75      1261950\n",
      "3     2013-03-28       98.59      1971410\n",
      "4     2013-03-29       98.76       782000\n",
      "...          ...         ...          ...\n",
      "2514  2023-03-16      175.45     51534160\n",
      "2515  2023-03-17      193.59    388164850\n",
      "2516  2023-03-20      203.73    156714250\n",
      "2517  2023-03-21      203.32    122583960\n",
      "2518  2023-03-22      202.89     57568140\n",
      "\n",
      "[2519 rows x 3 columns]\n"
     ]
    }
   ],
   "source": [
    "with requests.Session() as session:\n",
    "    data = apimoex.get_board_history(session, 'SBER')        # Сбербанк\n",
    "    SBER = pd.DataFrame(data)\n",
    "    SBER = SBER.drop(columns={'BOARDID', 'VALUE'}, axis=1)\n",
    "    SBER.rename(columns={'TRADEDATE' : 'SBER_date',\n",
    "                       'CLOSE': 'SBER_price',\n",
    "                       'VOLUME'  : 'SBER_volume'}, inplace=True)\n",
    "    print(SBER)"
   ]
  },
  {
   "cell_type": "markdown",
   "metadata": {},
   "source": [
    "### Преобразование и удаление дат"
   ]
  },
  {
   "cell_type": "markdown",
   "metadata": {},
   "source": [
    "Как можно заметить, Мосбиржа содержит данные по акциям Мегион-ао и Якутскэнрг за период с 2014-06-09 по настоящее время, а данные по акциям Сбербанка - с 2013-03-25. Для проведения анализа необходимо использовать один и тот же период, поэтому необходимо удалить из таблицы k3 данные за период до 2014-06-09."
   ]
  },
  {
   "cell_type": "code",
   "execution_count": 5,
   "metadata": {},
   "outputs": [
    {
     "data": {
      "text/html": [
       "<div>\n",
       "<style scoped>\n",
       "    .dataframe tbody tr th:only-of-type {\n",
       "        vertical-align: middle;\n",
       "    }\n",
       "\n",
       "    .dataframe tbody tr th {\n",
       "        vertical-align: top;\n",
       "    }\n",
       "\n",
       "    .dataframe thead th {\n",
       "        text-align: right;\n",
       "    }\n",
       "</style>\n",
       "<table border=\"1\" class=\"dataframe\">\n",
       "  <thead>\n",
       "    <tr style=\"text-align: right;\">\n",
       "      <th></th>\n",
       "      <th>SBER_date</th>\n",
       "      <th>SBER_price</th>\n",
       "      <th>SBER_volume</th>\n",
       "    </tr>\n",
       "  </thead>\n",
       "  <tbody>\n",
       "    <tr>\n",
       "      <th>0</th>\n",
       "      <td>2014-06-09</td>\n",
       "      <td>88.89</td>\n",
       "      <td>84842190</td>\n",
       "    </tr>\n",
       "    <tr>\n",
       "      <th>1</th>\n",
       "      <td>2014-06-10</td>\n",
       "      <td>88.99</td>\n",
       "      <td>85853250</td>\n",
       "    </tr>\n",
       "  </tbody>\n",
       "</table>\n",
       "</div>"
      ],
      "text/plain": [
       "   SBER_date  SBER_price  SBER_volume\n",
       "0 2014-06-09       88.89     84842190\n",
       "1 2014-06-10       88.99     85853250"
      ]
     },
     "execution_count": 5,
     "metadata": {},
     "output_type": "execute_result"
    }
   ],
   "source": [
    "# Для начала переведем столбец с датой в формат даты\n",
    "MFGS.MFGS_date = pd.to_datetime(MFGS.MFGS_date)\n",
    "SBER.SBER_date = pd.to_datetime(SBER.SBER_date)\n",
    "SBER = SBER.query('SBER_date >= \"2014-06-09\"').reset_index().drop(columns={'index'}, axis=1)\n",
    "SBER.head(2)"
   ]
  },
  {
   "cell_type": "markdown",
   "metadata": {},
   "source": [
    "Теперь таблица SBER содержит такое же количество строк, как и две другие. Проверим количество строк с помощью shape"
   ]
  },
  {
   "cell_type": "code",
   "execution_count": 6,
   "metadata": {},
   "outputs": [
    {
     "name": "stdout",
     "output_type": "stream",
     "text": [
      "Количество строк для таблицы \"Мегион-ао\": 2216\n",
      "Количество строк для таблицы \"Якутскэнрг\": 2216\n",
      "Количество строк для таблицы \"Сбербанк\": 2216\n"
     ]
    }
   ],
   "source": [
    "print('Количество строк для таблицы \"Мегион-ао\": ' + str(MFGS.shape[0]))\n",
    "print('Количество строк для таблицы \"Якутскэнрг\": ' + str(YKEN.shape[0]))\n",
    "print('Количество строк для таблицы \"Сбербанк\": ' + str(SBER.shape[0]))"
   ]
  },
  {
   "cell_type": "code",
   "execution_count": 7,
   "metadata": {},
   "outputs": [
    {
     "data": {
      "text/html": [
       "<div>\n",
       "<style scoped>\n",
       "    .dataframe tbody tr th:only-of-type {\n",
       "        vertical-align: middle;\n",
       "    }\n",
       "\n",
       "    .dataframe tbody tr th {\n",
       "        vertical-align: top;\n",
       "    }\n",
       "\n",
       "    .dataframe thead th {\n",
       "        text-align: right;\n",
       "    }\n",
       "</style>\n",
       "<table border=\"1\" class=\"dataframe\">\n",
       "  <thead>\n",
       "    <tr style=\"text-align: right;\">\n",
       "      <th></th>\n",
       "      <th>MFGS_date</th>\n",
       "      <th>MFGS_price</th>\n",
       "      <th>MFGS_volume</th>\n",
       "      <th>YKEN_price</th>\n",
       "      <th>YKEN_volume</th>\n",
       "      <th>SBER_price</th>\n",
       "      <th>SBER_volume</th>\n",
       "    </tr>\n",
       "  </thead>\n",
       "  <tbody>\n",
       "    <tr>\n",
       "      <th>0</th>\n",
       "      <td>2014-06-09</td>\n",
       "      <td>NaN</td>\n",
       "      <td>0</td>\n",
       "      <td>NaN</td>\n",
       "      <td>0</td>\n",
       "      <td>88.89</td>\n",
       "      <td>84842190</td>\n",
       "    </tr>\n",
       "    <tr>\n",
       "      <th>1</th>\n",
       "      <td>2014-06-10</td>\n",
       "      <td>501.1</td>\n",
       "      <td>400</td>\n",
       "      <td>0.1360</td>\n",
       "      <td>10000</td>\n",
       "      <td>88.99</td>\n",
       "      <td>85853250</td>\n",
       "    </tr>\n",
       "    <tr>\n",
       "      <th>2</th>\n",
       "      <td>2014-06-11</td>\n",
       "      <td>502.0</td>\n",
       "      <td>40</td>\n",
       "      <td>NaN</td>\n",
       "      <td>0</td>\n",
       "      <td>89.00</td>\n",
       "      <td>67980020</td>\n",
       "    </tr>\n",
       "    <tr>\n",
       "      <th>3</th>\n",
       "      <td>2014-06-16</td>\n",
       "      <td>517.6</td>\n",
       "      <td>30</td>\n",
       "      <td>0.1320</td>\n",
       "      <td>310000</td>\n",
       "      <td>84.85</td>\n",
       "      <td>130296750</td>\n",
       "    </tr>\n",
       "    <tr>\n",
       "      <th>4</th>\n",
       "      <td>2014-06-17</td>\n",
       "      <td>529.9</td>\n",
       "      <td>590</td>\n",
       "      <td>NaN</td>\n",
       "      <td>0</td>\n",
       "      <td>83.80</td>\n",
       "      <td>86913970</td>\n",
       "    </tr>\n",
       "    <tr>\n",
       "      <th>...</th>\n",
       "      <td>...</td>\n",
       "      <td>...</td>\n",
       "      <td>...</td>\n",
       "      <td>...</td>\n",
       "      <td>...</td>\n",
       "      <td>...</td>\n",
       "      <td>...</td>\n",
       "    </tr>\n",
       "    <tr>\n",
       "      <th>2211</th>\n",
       "      <td>2023-03-16</td>\n",
       "      <td>359.0</td>\n",
       "      <td>490</td>\n",
       "      <td>0.2935</td>\n",
       "      <td>490000</td>\n",
       "      <td>175.45</td>\n",
       "      <td>51534160</td>\n",
       "    </tr>\n",
       "    <tr>\n",
       "      <th>2212</th>\n",
       "      <td>2023-03-17</td>\n",
       "      <td>358.0</td>\n",
       "      <td>80</td>\n",
       "      <td>0.2890</td>\n",
       "      <td>1730000</td>\n",
       "      <td>193.59</td>\n",
       "      <td>388164850</td>\n",
       "    </tr>\n",
       "    <tr>\n",
       "      <th>2213</th>\n",
       "      <td>2023-03-20</td>\n",
       "      <td>358.5</td>\n",
       "      <td>290</td>\n",
       "      <td>0.2990</td>\n",
       "      <td>12420000</td>\n",
       "      <td>203.73</td>\n",
       "      <td>156714250</td>\n",
       "    </tr>\n",
       "    <tr>\n",
       "      <th>2214</th>\n",
       "      <td>2023-03-21</td>\n",
       "      <td>369.5</td>\n",
       "      <td>1910</td>\n",
       "      <td>0.2985</td>\n",
       "      <td>660000</td>\n",
       "      <td>203.32</td>\n",
       "      <td>122583960</td>\n",
       "    </tr>\n",
       "    <tr>\n",
       "      <th>2215</th>\n",
       "      <td>2023-03-22</td>\n",
       "      <td>364.5</td>\n",
       "      <td>230</td>\n",
       "      <td>0.3035</td>\n",
       "      <td>280000</td>\n",
       "      <td>202.89</td>\n",
       "      <td>57568140</td>\n",
       "    </tr>\n",
       "  </tbody>\n",
       "</table>\n",
       "<p>2216 rows × 7 columns</p>\n",
       "</div>"
      ],
      "text/plain": [
       "      MFGS_date  MFGS_price  MFGS_volume  YKEN_price  YKEN_volume  SBER_price  \\\n",
       "0    2014-06-09         NaN            0         NaN            0       88.89   \n",
       "1    2014-06-10       501.1          400      0.1360        10000       88.99   \n",
       "2    2014-06-11       502.0           40         NaN            0       89.00   \n",
       "3    2014-06-16       517.6           30      0.1320       310000       84.85   \n",
       "4    2014-06-17       529.9          590         NaN            0       83.80   \n",
       "...         ...         ...          ...         ...          ...         ...   \n",
       "2211 2023-03-16       359.0          490      0.2935       490000      175.45   \n",
       "2212 2023-03-17       358.0           80      0.2890      1730000      193.59   \n",
       "2213 2023-03-20       358.5          290      0.2990     12420000      203.73   \n",
       "2214 2023-03-21       369.5         1910      0.2985       660000      203.32   \n",
       "2215 2023-03-22       364.5          230      0.3035       280000      202.89   \n",
       "\n",
       "      SBER_volume  \n",
       "0        84842190  \n",
       "1        85853250  \n",
       "2        67980020  \n",
       "3       130296750  \n",
       "4        86913970  \n",
       "...           ...  \n",
       "2211     51534160  \n",
       "2212    388164850  \n",
       "2213    156714250  \n",
       "2214    122583960  \n",
       "2215     57568140  \n",
       "\n",
       "[2216 rows x 7 columns]"
      ]
     },
     "execution_count": 7,
     "metadata": {},
     "output_type": "execute_result"
    }
   ],
   "source": [
    "# Теперь данные из 3х таблиц можно объединить\n",
    "df_stocks = pd.concat([MFGS, YKEN, SBER], axis = 1).drop(columns={'YKEN_date', 'SBER_date'}, axis=1)\n",
    "df_stocks"
   ]
  },
  {
   "cell_type": "markdown",
   "metadata": {},
   "source": [
    "## Задание 2. Удаление строк, в которые не было торгов хотя бы у одного из трех эмитентов\n",
    "### 2.1 Для отдельных таблиц"
   ]
  },
  {
   "cell_type": "markdown",
   "metadata": {},
   "source": [
    "Пропущенные и нулевые данные может содержать признак value"
   ]
  },
  {
   "cell_type": "code",
   "execution_count": 8,
   "metadata": {},
   "outputs": [
    {
     "name": "stdout",
     "output_type": "stream",
     "text": [
      "Количество строк для таблицы \"Мегион-ао\" после удаления строк без торгов: 1858\n",
      "В таблице \"Мегион-ао\" удалено 358 строк\n",
      "\n",
      "Количество строк для таблицы \"Якутскэнрг\" после удаления строк без торгов: 2055\n",
      "В таблице \"Якутскэнрг\" удалено 161 строк\n",
      "\n",
      "Количество строк для таблицы \"Сбербанк\" после удаления строк без торгов: 2198\n",
      "В таблице \"Сбербанк\" удалено 18 строк\n",
      "\n"
     ]
    }
   ],
   "source": [
    "x1 = MFGS.shape[0]\n",
    "MFGS['MFGS_volume'].replace(0, np.nan, inplace=True)\n",
    "MFGS.dropna(axis=0, inplace=True)\n",
    "print('Количество строк для таблицы \"Мегион-ао\" после удаления строк без торгов: ' + str(MFGS.shape[0]))\n",
    "print('В таблице \"Мегион-ао\" удалено ' + str(x1 - MFGS.shape[0]) + ' строк\\n')\n",
    "\n",
    "x2 = YKEN.shape[0]\n",
    "YKEN['YKEN_volume'].replace(0, np.nan, inplace=True)\n",
    "YKEN.dropna(axis=0, inplace=True)\n",
    "print('Количество строк для таблицы \"Якутскэнрг\" после удаления строк без торгов: ' + str(YKEN.shape[0]))\n",
    "print('В таблице \"Якутскэнрг\" удалено ' + str(x2 - YKEN.shape[0]) + ' строк\\n')\n",
    "\n",
    "x3 = SBER.shape[0]\n",
    "SBER['SBER_volume'].replace(0, np.nan, inplace=True)\n",
    "SBER.dropna(axis=0, inplace=True)\n",
    "print('Количество строк для таблицы \"Сбербанк\" после удаления строк без торгов: ' + str(SBER.shape[0]))\n",
    "print('В таблице \"Сбербанк\" удалено ' + str(x3 - SBER.shape[0]) + ' строк\\n')"
   ]
  },
  {
   "cell_type": "markdown",
   "metadata": {},
   "source": [
    "### Для объединенной таблицы"
   ]
  },
  {
   "cell_type": "code",
   "execution_count": 9,
   "metadata": {},
   "outputs": [
    {
     "name": "stdout",
     "output_type": "stream",
     "text": [
      "Количество строк для объединенной таблицы после удаления строк без торгов: 1764\n",
      "В объединенной таблице удалено 452 строк\n",
      "\n"
     ]
    }
   ],
   "source": [
    "x = df_stocks.shape[0]\n",
    "df_stocks['MFGS_volume'].replace(0, np.nan, inplace=True)\n",
    "df_stocks.dropna(axis=0, inplace=True)\n",
    "df_stocks['YKEN_volume'].replace(0, np.nan, inplace=True)\n",
    "df_stocks.dropna(axis=0, inplace=True)\n",
    "df_stocks['SBER_volume'].replace(0, np.nan, inplace=True)\n",
    "df_stocks.dropna(axis=0, inplace=True)\n",
    "print('Количество строк для объединенной таблицы после удаления строк без торгов: ' + str(df_stocks.shape[0]))\n",
    "print('В объединенной таблице удалено ' + str(x - df_stocks.shape[0]) + ' строк\\n')"
   ]
  },
  {
   "cell_type": "markdown",
   "metadata": {},
   "source": [
    "## Задание 3. Создание новых признаков\n",
    "Рассчитаем для каждой компании дневные логдоходности (для отдельных таблиц и объединенной таблицы)"
   ]
  },
  {
   "cell_type": "code",
   "execution_count": 10,
   "metadata": {},
   "outputs": [],
   "source": [
    "# В таблице компании Мегион-ао\n",
    "# Метод insert(j, name, A) добавляет столбец A под именем name, помещая его после (j-1)-го столбца\n",
    "# При создании признака «Логдоходность» на массив цен делится массив, сдвинутый на одну единицу.\n",
    "# Для  получения такого массива используется функция  numpy.roll(X,k), осуществляющая циклический сдвиг\n",
    "# массива X на k разрядов (вперед, если k > 0, и назад,  если k < 0) '''\n",
    "MFGS.insert(3, 'MFGS_log', (np.log(np.roll(MFGS['MFGS_price'], -1)[:-1] / MFGS['MFGS_price'][0:-1])))"
   ]
  },
  {
   "cell_type": "code",
   "execution_count": 11,
   "metadata": {},
   "outputs": [
    {
     "data": {
      "text/html": [
       "<div>\n",
       "<style scoped>\n",
       "    .dataframe tbody tr th:only-of-type {\n",
       "        vertical-align: middle;\n",
       "    }\n",
       "\n",
       "    .dataframe tbody tr th {\n",
       "        vertical-align: top;\n",
       "    }\n",
       "\n",
       "    .dataframe thead th {\n",
       "        text-align: right;\n",
       "    }\n",
       "</style>\n",
       "<table border=\"1\" class=\"dataframe\">\n",
       "  <thead>\n",
       "    <tr style=\"text-align: right;\">\n",
       "      <th></th>\n",
       "      <th>MFGS_date</th>\n",
       "      <th>MFGS_price</th>\n",
       "      <th>MFGS_volume</th>\n",
       "      <th>MFGS_log</th>\n",
       "    </tr>\n",
       "  </thead>\n",
       "  <tbody>\n",
       "    <tr>\n",
       "      <th>1</th>\n",
       "      <td>2014-06-10</td>\n",
       "      <td>501.1</td>\n",
       "      <td>400.0</td>\n",
       "      <td>0.001794</td>\n",
       "    </tr>\n",
       "    <tr>\n",
       "      <th>2</th>\n",
       "      <td>2014-06-11</td>\n",
       "      <td>502.0</td>\n",
       "      <td>40.0</td>\n",
       "      <td>0.030603</td>\n",
       "    </tr>\n",
       "    <tr>\n",
       "      <th>3</th>\n",
       "      <td>2014-06-16</td>\n",
       "      <td>517.6</td>\n",
       "      <td>30.0</td>\n",
       "      <td>0.023486</td>\n",
       "    </tr>\n",
       "    <tr>\n",
       "      <th>4</th>\n",
       "      <td>2014-06-17</td>\n",
       "      <td>529.9</td>\n",
       "      <td>590.0</td>\n",
       "      <td>0.022024</td>\n",
       "    </tr>\n",
       "    <tr>\n",
       "      <th>5</th>\n",
       "      <td>2014-06-18</td>\n",
       "      <td>541.7</td>\n",
       "      <td>300.0</td>\n",
       "      <td>-0.025427</td>\n",
       "    </tr>\n",
       "    <tr>\n",
       "      <th>...</th>\n",
       "      <td>...</td>\n",
       "      <td>...</td>\n",
       "      <td>...</td>\n",
       "      <td>...</td>\n",
       "    </tr>\n",
       "    <tr>\n",
       "      <th>2211</th>\n",
       "      <td>2023-03-16</td>\n",
       "      <td>359.0</td>\n",
       "      <td>490.0</td>\n",
       "      <td>-0.002789</td>\n",
       "    </tr>\n",
       "    <tr>\n",
       "      <th>2212</th>\n",
       "      <td>2023-03-17</td>\n",
       "      <td>358.0</td>\n",
       "      <td>80.0</td>\n",
       "      <td>0.001396</td>\n",
       "    </tr>\n",
       "    <tr>\n",
       "      <th>2213</th>\n",
       "      <td>2023-03-20</td>\n",
       "      <td>358.5</td>\n",
       "      <td>290.0</td>\n",
       "      <td>0.030222</td>\n",
       "    </tr>\n",
       "    <tr>\n",
       "      <th>2214</th>\n",
       "      <td>2023-03-21</td>\n",
       "      <td>369.5</td>\n",
       "      <td>1910.0</td>\n",
       "      <td>-0.013624</td>\n",
       "    </tr>\n",
       "    <tr>\n",
       "      <th>2215</th>\n",
       "      <td>2023-03-22</td>\n",
       "      <td>364.5</td>\n",
       "      <td>230.0</td>\n",
       "      <td>NaN</td>\n",
       "    </tr>\n",
       "  </tbody>\n",
       "</table>\n",
       "<p>1858 rows × 4 columns</p>\n",
       "</div>"
      ],
      "text/plain": [
       "      MFGS_date  MFGS_price  MFGS_volume  MFGS_log\n",
       "1    2014-06-10       501.1        400.0  0.001794\n",
       "2    2014-06-11       502.0         40.0  0.030603\n",
       "3    2014-06-16       517.6         30.0  0.023486\n",
       "4    2014-06-17       529.9        590.0  0.022024\n",
       "5    2014-06-18       541.7        300.0 -0.025427\n",
       "...         ...         ...          ...       ...\n",
       "2211 2023-03-16       359.0        490.0 -0.002789\n",
       "2212 2023-03-17       358.0         80.0  0.001396\n",
       "2213 2023-03-20       358.5        290.0  0.030222\n",
       "2214 2023-03-21       369.5       1910.0 -0.013624\n",
       "2215 2023-03-22       364.5        230.0       NaN\n",
       "\n",
       "[1858 rows x 4 columns]"
      ]
     },
     "execution_count": 11,
     "metadata": {},
     "output_type": "execute_result"
    }
   ],
   "source": [
    "MFGS"
   ]
  },
  {
   "cell_type": "code",
   "execution_count": 13,
   "metadata": {},
   "outputs": [
    {
     "data": {
      "text/html": [
       "<div>\n",
       "<style scoped>\n",
       "    .dataframe tbody tr th:only-of-type {\n",
       "        vertical-align: middle;\n",
       "    }\n",
       "\n",
       "    .dataframe tbody tr th {\n",
       "        vertical-align: top;\n",
       "    }\n",
       "\n",
       "    .dataframe thead th {\n",
       "        text-align: right;\n",
       "    }\n",
       "</style>\n",
       "<table border=\"1\" class=\"dataframe\">\n",
       "  <thead>\n",
       "    <tr style=\"text-align: right;\">\n",
       "      <th></th>\n",
       "      <th>MFGS_date</th>\n",
       "      <th>MFGS_price</th>\n",
       "      <th>MFGS_volume</th>\n",
       "      <th>MFGS_log</th>\n",
       "    </tr>\n",
       "  </thead>\n",
       "  <tbody>\n",
       "    <tr>\n",
       "      <th>1</th>\n",
       "      <td>2014-06-10</td>\n",
       "      <td>501.1</td>\n",
       "      <td>400.0</td>\n",
       "      <td>-0.013624</td>\n",
       "    </tr>\n",
       "    <tr>\n",
       "      <th>2</th>\n",
       "      <td>2014-06-11</td>\n",
       "      <td>502.0</td>\n",
       "      <td>40.0</td>\n",
       "      <td>NaN</td>\n",
       "    </tr>\n",
       "    <tr>\n",
       "      <th>3</th>\n",
       "      <td>2014-06-16</td>\n",
       "      <td>517.6</td>\n",
       "      <td>30.0</td>\n",
       "      <td>0.001794</td>\n",
       "    </tr>\n",
       "  </tbody>\n",
       "</table>\n",
       "</div>"
      ],
      "text/plain": [
       "   MFGS_date  MFGS_price  MFGS_volume  MFGS_log\n",
       "1 2014-06-10       501.1        400.0 -0.013624\n",
       "2 2014-06-11       502.0         40.0       NaN\n",
       "3 2014-06-16       517.6         30.0  0.001794"
      ]
     },
     "execution_count": 13,
     "metadata": {},
     "output_type": "execute_result"
    }
   ],
   "source": [
    "# Полученный массив располагается с 1-й строки, а нужно со 2-й (для 1-й строки нет предыдущей цены 𝒔𝒊−𝟏.\n",
    "# Сдвигаем (циклически) массив на 1 разряд вперед\n",
    "MFGS[\"MFGS_log\"] = np.roll(MFGS[\"MFGS_log\"], 1)\n",
    "MFGS.head(3)"
   ]
  },
  {
   "cell_type": "code",
   "execution_count": 14,
   "metadata": {},
   "outputs": [
    {
     "data": {
      "text/html": [
       "<div>\n",
       "<style scoped>\n",
       "    .dataframe tbody tr th:only-of-type {\n",
       "        vertical-align: middle;\n",
       "    }\n",
       "\n",
       "    .dataframe tbody tr th {\n",
       "        vertical-align: top;\n",
       "    }\n",
       "\n",
       "    .dataframe thead th {\n",
       "        text-align: right;\n",
       "    }\n",
       "</style>\n",
       "<table border=\"1\" class=\"dataframe\">\n",
       "  <thead>\n",
       "    <tr style=\"text-align: right;\">\n",
       "      <th></th>\n",
       "      <th>YKEN_date</th>\n",
       "      <th>YKEN_price</th>\n",
       "      <th>YKEN_volume</th>\n",
       "      <th>YKEN_log</th>\n",
       "    </tr>\n",
       "  </thead>\n",
       "  <tbody>\n",
       "    <tr>\n",
       "      <th>1</th>\n",
       "      <td>2014-06-10</td>\n",
       "      <td>0.136</td>\n",
       "      <td>10000.0</td>\n",
       "      <td>NaN</td>\n",
       "    </tr>\n",
       "    <tr>\n",
       "      <th>3</th>\n",
       "      <td>2014-06-16</td>\n",
       "      <td>0.132</td>\n",
       "      <td>310000.0</td>\n",
       "      <td>-0.029853</td>\n",
       "    </tr>\n",
       "    <tr>\n",
       "      <th>6</th>\n",
       "      <td>2014-06-19</td>\n",
       "      <td>0.131</td>\n",
       "      <td>140000.0</td>\n",
       "      <td>-0.007605</td>\n",
       "    </tr>\n",
       "  </tbody>\n",
       "</table>\n",
       "</div>"
      ],
      "text/plain": [
       "    YKEN_date  YKEN_price  YKEN_volume  YKEN_log\n",
       "1  2014-06-10       0.136      10000.0       NaN\n",
       "3  2014-06-16       0.132     310000.0 -0.029853\n",
       "6  2014-06-19       0.131     140000.0 -0.007605"
      ]
     },
     "execution_count": 14,
     "metadata": {},
     "output_type": "execute_result"
    }
   ],
   "source": [
    "# Аналогичные действия произведем для компаний Якутскэнрг и Сбербанк\n",
    "YKEN.insert(3, 'YKEN_log', (np.log(np.roll(YKEN['YKEN_price'], -1)[:-1] / YKEN['YKEN_price'][0:-1])))\n",
    "YKEN[\"YKEN_log\"] = np.roll(YKEN[\"YKEN_log\"], 1)\n",
    "YKEN.head(3)"
   ]
  },
  {
   "cell_type": "code",
   "execution_count": 15,
   "metadata": {},
   "outputs": [
    {
     "data": {
      "text/html": [
       "<div>\n",
       "<style scoped>\n",
       "    .dataframe tbody tr th:only-of-type {\n",
       "        vertical-align: middle;\n",
       "    }\n",
       "\n",
       "    .dataframe tbody tr th {\n",
       "        vertical-align: top;\n",
       "    }\n",
       "\n",
       "    .dataframe thead th {\n",
       "        text-align: right;\n",
       "    }\n",
       "</style>\n",
       "<table border=\"1\" class=\"dataframe\">\n",
       "  <thead>\n",
       "    <tr style=\"text-align: right;\">\n",
       "      <th></th>\n",
       "      <th>SBER_date</th>\n",
       "      <th>SBER_price</th>\n",
       "      <th>SBER_volume</th>\n",
       "      <th>SBER_log</th>\n",
       "    </tr>\n",
       "  </thead>\n",
       "  <tbody>\n",
       "    <tr>\n",
       "      <th>0</th>\n",
       "      <td>2014-06-09</td>\n",
       "      <td>88.89</td>\n",
       "      <td>84842190.0</td>\n",
       "      <td>NaN</td>\n",
       "    </tr>\n",
       "    <tr>\n",
       "      <th>1</th>\n",
       "      <td>2014-06-10</td>\n",
       "      <td>88.99</td>\n",
       "      <td>85853250.0</td>\n",
       "      <td>0.001124</td>\n",
       "    </tr>\n",
       "    <tr>\n",
       "      <th>2</th>\n",
       "      <td>2014-06-11</td>\n",
       "      <td>89.00</td>\n",
       "      <td>67980020.0</td>\n",
       "      <td>0.000112</td>\n",
       "    </tr>\n",
       "  </tbody>\n",
       "</table>\n",
       "</div>"
      ],
      "text/plain": [
       "   SBER_date  SBER_price  SBER_volume  SBER_log\n",
       "0 2014-06-09       88.89   84842190.0       NaN\n",
       "1 2014-06-10       88.99   85853250.0  0.001124\n",
       "2 2014-06-11       89.00   67980020.0  0.000112"
      ]
     },
     "execution_count": 15,
     "metadata": {},
     "output_type": "execute_result"
    }
   ],
   "source": [
    "SBER.insert(3, 'SBER_log', (np.log(np.roll(SBER['SBER_price'], -1)[:-1] / SBER['SBER_price'][0:-1])))\n",
    "SBER[\"SBER_log\"] = np.roll(SBER[\"SBER_log\"], 1)\n",
    "SBER.head(3)"
   ]
  },
  {
   "cell_type": "code",
   "execution_count": 16,
   "metadata": {
    "scrolled": true
   },
   "outputs": [
    {
     "data": {
      "text/html": [
       "<div>\n",
       "<style scoped>\n",
       "    .dataframe tbody tr th:only-of-type {\n",
       "        vertical-align: middle;\n",
       "    }\n",
       "\n",
       "    .dataframe tbody tr th {\n",
       "        vertical-align: top;\n",
       "    }\n",
       "\n",
       "    .dataframe thead th {\n",
       "        text-align: right;\n",
       "    }\n",
       "</style>\n",
       "<table border=\"1\" class=\"dataframe\">\n",
       "  <thead>\n",
       "    <tr style=\"text-align: right;\">\n",
       "      <th></th>\n",
       "      <th>MFGS_date</th>\n",
       "      <th>MFGS_price</th>\n",
       "      <th>MFGS_volume</th>\n",
       "      <th>YKEN_price</th>\n",
       "      <th>YKEN_volume</th>\n",
       "      <th>SBER_price</th>\n",
       "      <th>SBER_volume</th>\n",
       "    </tr>\n",
       "  </thead>\n",
       "  <tbody>\n",
       "    <tr>\n",
       "      <th>1</th>\n",
       "      <td>2014-06-10</td>\n",
       "      <td>501.1</td>\n",
       "      <td>400.0</td>\n",
       "      <td>0.1360</td>\n",
       "      <td>10000</td>\n",
       "      <td>88.99</td>\n",
       "      <td>85853250</td>\n",
       "    </tr>\n",
       "    <tr>\n",
       "      <th>3</th>\n",
       "      <td>2014-06-16</td>\n",
       "      <td>517.6</td>\n",
       "      <td>30.0</td>\n",
       "      <td>0.1320</td>\n",
       "      <td>310000</td>\n",
       "      <td>84.85</td>\n",
       "      <td>130296750</td>\n",
       "    </tr>\n",
       "    <tr>\n",
       "      <th>6</th>\n",
       "      <td>2014-06-19</td>\n",
       "      <td>528.1</td>\n",
       "      <td>700.0</td>\n",
       "      <td>0.1310</td>\n",
       "      <td>140000</td>\n",
       "      <td>84.80</td>\n",
       "      <td>112078350</td>\n",
       "    </tr>\n",
       "    <tr>\n",
       "      <th>8</th>\n",
       "      <td>2014-06-23</td>\n",
       "      <td>550.0</td>\n",
       "      <td>360.0</td>\n",
       "      <td>0.1450</td>\n",
       "      <td>1830000</td>\n",
       "      <td>83.68</td>\n",
       "      <td>99040960</td>\n",
       "    </tr>\n",
       "    <tr>\n",
       "      <th>9</th>\n",
       "      <td>2014-06-24</td>\n",
       "      <td>530.2</td>\n",
       "      <td>390.0</td>\n",
       "      <td>0.1570</td>\n",
       "      <td>1160000</td>\n",
       "      <td>86.50</td>\n",
       "      <td>150531880</td>\n",
       "    </tr>\n",
       "    <tr>\n",
       "      <th>...</th>\n",
       "      <td>...</td>\n",
       "      <td>...</td>\n",
       "      <td>...</td>\n",
       "      <td>...</td>\n",
       "      <td>...</td>\n",
       "      <td>...</td>\n",
       "      <td>...</td>\n",
       "    </tr>\n",
       "    <tr>\n",
       "      <th>2211</th>\n",
       "      <td>2023-03-16</td>\n",
       "      <td>359.0</td>\n",
       "      <td>490.0</td>\n",
       "      <td>0.2935</td>\n",
       "      <td>490000</td>\n",
       "      <td>175.45</td>\n",
       "      <td>51534160</td>\n",
       "    </tr>\n",
       "    <tr>\n",
       "      <th>2212</th>\n",
       "      <td>2023-03-17</td>\n",
       "      <td>358.0</td>\n",
       "      <td>80.0</td>\n",
       "      <td>0.2890</td>\n",
       "      <td>1730000</td>\n",
       "      <td>193.59</td>\n",
       "      <td>388164850</td>\n",
       "    </tr>\n",
       "    <tr>\n",
       "      <th>2213</th>\n",
       "      <td>2023-03-20</td>\n",
       "      <td>358.5</td>\n",
       "      <td>290.0</td>\n",
       "      <td>0.2990</td>\n",
       "      <td>12420000</td>\n",
       "      <td>203.73</td>\n",
       "      <td>156714250</td>\n",
       "    </tr>\n",
       "    <tr>\n",
       "      <th>2214</th>\n",
       "      <td>2023-03-21</td>\n",
       "      <td>369.5</td>\n",
       "      <td>1910.0</td>\n",
       "      <td>0.2985</td>\n",
       "      <td>660000</td>\n",
       "      <td>203.32</td>\n",
       "      <td>122583960</td>\n",
       "    </tr>\n",
       "    <tr>\n",
       "      <th>2215</th>\n",
       "      <td>2023-03-22</td>\n",
       "      <td>364.5</td>\n",
       "      <td>230.0</td>\n",
       "      <td>0.3035</td>\n",
       "      <td>280000</td>\n",
       "      <td>202.89</td>\n",
       "      <td>57568140</td>\n",
       "    </tr>\n",
       "  </tbody>\n",
       "</table>\n",
       "<p>1764 rows × 7 columns</p>\n",
       "</div>"
      ],
      "text/plain": [
       "      MFGS_date  MFGS_price  MFGS_volume  YKEN_price  YKEN_volume  SBER_price  \\\n",
       "1    2014-06-10       501.1        400.0      0.1360        10000       88.99   \n",
       "3    2014-06-16       517.6         30.0      0.1320       310000       84.85   \n",
       "6    2014-06-19       528.1        700.0      0.1310       140000       84.80   \n",
       "8    2014-06-23       550.0        360.0      0.1450      1830000       83.68   \n",
       "9    2014-06-24       530.2        390.0      0.1570      1160000       86.50   \n",
       "...         ...         ...          ...         ...          ...         ...   \n",
       "2211 2023-03-16       359.0        490.0      0.2935       490000      175.45   \n",
       "2212 2023-03-17       358.0         80.0      0.2890      1730000      193.59   \n",
       "2213 2023-03-20       358.5        290.0      0.2990     12420000      203.73   \n",
       "2214 2023-03-21       369.5       1910.0      0.2985       660000      203.32   \n",
       "2215 2023-03-22       364.5        230.0      0.3035       280000      202.89   \n",
       "\n",
       "      SBER_volume  \n",
       "1        85853250  \n",
       "3       130296750  \n",
       "6       112078350  \n",
       "8        99040960  \n",
       "9       150531880  \n",
       "...           ...  \n",
       "2211     51534160  \n",
       "2212    388164850  \n",
       "2213    156714250  \n",
       "2214    122583960  \n",
       "2215     57568140  \n",
       "\n",
       "[1764 rows x 7 columns]"
      ]
     },
     "execution_count": 16,
     "metadata": {},
     "output_type": "execute_result"
    }
   ],
   "source": [
    "df_stocks"
   ]
  },
  {
   "cell_type": "code",
   "execution_count": 17,
   "metadata": {
    "scrolled": true
   },
   "outputs": [
    {
     "data": {
      "text/html": [
       "<div>\n",
       "<style scoped>\n",
       "    .dataframe tbody tr th:only-of-type {\n",
       "        vertical-align: middle;\n",
       "    }\n",
       "\n",
       "    .dataframe tbody tr th {\n",
       "        vertical-align: top;\n",
       "    }\n",
       "\n",
       "    .dataframe thead th {\n",
       "        text-align: right;\n",
       "    }\n",
       "</style>\n",
       "<table border=\"1\" class=\"dataframe\">\n",
       "  <thead>\n",
       "    <tr style=\"text-align: right;\">\n",
       "      <th></th>\n",
       "      <th>MFGS_date</th>\n",
       "      <th>MFGS_price</th>\n",
       "      <th>MFGS_volume</th>\n",
       "      <th>SBER_log</th>\n",
       "      <th>YKEN_log</th>\n",
       "      <th>MFGS_log</th>\n",
       "      <th>YKEN_price</th>\n",
       "      <th>YKEN_volume</th>\n",
       "      <th>SBER_price</th>\n",
       "      <th>SBER_volume</th>\n",
       "    </tr>\n",
       "  </thead>\n",
       "  <tbody>\n",
       "    <tr>\n",
       "      <th>1</th>\n",
       "      <td>2014-06-10</td>\n",
       "      <td>501.1</td>\n",
       "      <td>400.0</td>\n",
       "      <td>NaN</td>\n",
       "      <td>NaN</td>\n",
       "      <td>NaN</td>\n",
       "      <td>0.136</td>\n",
       "      <td>10000</td>\n",
       "      <td>88.99</td>\n",
       "      <td>85853250</td>\n",
       "    </tr>\n",
       "    <tr>\n",
       "      <th>3</th>\n",
       "      <td>2014-06-16</td>\n",
       "      <td>517.6</td>\n",
       "      <td>30.0</td>\n",
       "      <td>-0.047639</td>\n",
       "      <td>-0.029853</td>\n",
       "      <td>0.032397</td>\n",
       "      <td>0.132</td>\n",
       "      <td>310000</td>\n",
       "      <td>84.85</td>\n",
       "      <td>130296750</td>\n",
       "    </tr>\n",
       "    <tr>\n",
       "      <th>6</th>\n",
       "      <td>2014-06-19</td>\n",
       "      <td>528.1</td>\n",
       "      <td>700.0</td>\n",
       "      <td>-0.000589</td>\n",
       "      <td>-0.007605</td>\n",
       "      <td>0.020083</td>\n",
       "      <td>0.131</td>\n",
       "      <td>140000</td>\n",
       "      <td>84.80</td>\n",
       "      <td>112078350</td>\n",
       "    </tr>\n",
       "  </tbody>\n",
       "</table>\n",
       "</div>"
      ],
      "text/plain": [
       "   MFGS_date  MFGS_price  MFGS_volume  SBER_log  YKEN_log  MFGS_log  \\\n",
       "1 2014-06-10       501.1        400.0       NaN       NaN       NaN   \n",
       "3 2014-06-16       517.6         30.0 -0.047639 -0.029853  0.032397   \n",
       "6 2014-06-19       528.1        700.0 -0.000589 -0.007605  0.020083   \n",
       "\n",
       "   YKEN_price  YKEN_volume  SBER_price  SBER_volume  \n",
       "1       0.136        10000       88.99     85853250  \n",
       "3       0.132       310000       84.85    130296750  \n",
       "6       0.131       140000       84.80    112078350  "
      ]
     },
     "execution_count": 17,
     "metadata": {},
     "output_type": "execute_result"
    }
   ],
   "source": [
    "# Создаем признаки логдоходности для 1-й, 2-й и 3-й компаний\n",
    "# по Мегион-ао\n",
    "df_stocks.insert(3, 'MFGS_log', (np.log(np.roll(df_stocks['MFGS_price'], -1)[:-1] / df_stocks['MFGS_price'][0:-1])))\n",
    "df_stocks[\"MFGS_log\"] = np.roll(df_stocks[\"MFGS_log\"], 1)\n",
    "\n",
    "# по Якутскэнрг\n",
    "df_stocks.insert(3, 'YKEN_log', (np.log(np.roll(df_stocks['YKEN_price'], -1)[:-1] / df_stocks['YKEN_price'][0:-1])))\n",
    "df_stocks[\"YKEN_log\"] = np.roll(df_stocks[\"YKEN_log\"], 1)\n",
    "\n",
    "# по Сбербанк\n",
    "df_stocks.insert(3, 'SBER_log', (np.log(np.roll(df_stocks['SBER_price'], -1)[:-1] / df_stocks['SBER_price'][0:-1])))\n",
    "df_stocks[\"SBER_log\"] = np.roll(df_stocks[\"SBER_log\"], 1)\n",
    "df_stocks.head(3)"
   ]
  },
  {
   "cell_type": "markdown",
   "metadata": {},
   "source": [
    "## Итоги проведенной работы (шаги 1-3):\n",
    "* Данные о ценах закрытия и объемах торгов получены с сайта Мосбиржи с помощью библиотек requests и apimoex;\n",
    "* Даты старта и окончания приведены к одному значению;\n",
    "* Удалены строки, в которых не было торгов хотя бы у одного из эмитентов;\n",
    "* Три таблицы объединены в одну;\n",
    "* Добавлен признак - логдоходность."
   ]
  },
  {
   "cell_type": "code",
   "execution_count": null,
   "metadata": {},
   "outputs": [],
   "source": []
  },
  {
   "cell_type": "markdown",
   "metadata": {},
   "source": [
    "## 3.1*. Количество строк с нулевой логдоходностью"
   ]
  },
  {
   "cell_type": "code",
   "execution_count": 18,
   "metadata": {},
   "outputs": [
    {
     "name": "stdout",
     "output_type": "stream",
     "text": [
      "Количество строк с нулевой доходностью для таблицы \"Мегион-ао\": 157\n",
      "Количество строк с нулевой доходностью для таблицы \"Якутскэнрг\": 122\n",
      "Количество строк с нулевой доходностью для таблицы \"Сбербанк\": 9\n"
     ]
    }
   ],
   "source": [
    "print('Количество строк с нулевой доходностью для таблицы \"Мегион-ао\": ' + str(len(MFGS.query('MFGS_log == 0'))))\n",
    "print('Количество строк с нулевой доходностью для таблицы \"Якутскэнрг\": ' + str(len(YKEN.query('YKEN_log == 0'))))\n",
    "print('Количество строк с нулевой доходностью для таблицы \"Сбербанк\": ' + str(len(SBER.query('SBER_log == 0'))))"
   ]
  },
  {
   "cell_type": "markdown",
   "metadata": {},
   "source": [
    "## 3.2*. Удаление строк с нулевой логдоходностью"
   ]
  },
  {
   "cell_type": "code",
   "execution_count": 19,
   "metadata": {},
   "outputs": [
    {
     "name": "stdout",
     "output_type": "stream",
     "text": [
      "Количество строк для таблицы \"Мегион-ао\" после удаления строк с нулевой логдоходностью: 1700\n",
      "Количество удаленных строк с нулевой логдоходностью для таблицы \"Мегион-ао\": 158\n",
      "\n",
      "Количество строк для таблицы \"Якутскэнрг\" после удаления строк с нулевой логдоходностью: 1932\n",
      "Количество удаленных строк с нулевой логдоходностью для таблицы \"Якутскэнрг\": 123\n",
      "\n",
      "Количество строк для таблицы \"Сбербанк\" после удаления строк с нулевой логдоходностью: 2188\n",
      "Количество удаленных строк с нулевой логдоходностью для таблицы \"Сбербанк\": 10\n"
     ]
    }
   ],
   "source": [
    "n = MFGS.shape[0]\n",
    "MFGS.MFGS_log.replace(0, np.nan, inplace=True)\n",
    "MFGS.dropna(axis=0, inplace=True)\n",
    "print('Количество строк для таблицы \"Мегион-ао\" после удаления строк с нулевой логдоходностью: ' + str(MFGS.shape[0]))\n",
    "print('Количество удаленных строк с нулевой логдоходностью для таблицы \"Мегион-ао\": ' + str(n-MFGS.shape[0]))\n",
    "\n",
    "n = YKEN.shape[0]\n",
    "YKEN.YKEN_log.replace(0, np.nan, inplace=True)\n",
    "YKEN.dropna(axis=0, inplace=True)\n",
    "print('\\nКоличество строк для таблицы \"Якутскэнрг\" после удаления строк с нулевой логдоходностью: ' + str(YKEN.shape[0]))\n",
    "print('Количество удаленных строк с нулевой логдоходностью для таблицы \"Якутскэнрг\": ' + str(n-YKEN.shape[0]))\n",
    "\n",
    "n = SBER.shape[0]\n",
    "SBER.SBER_log.replace(0, np.nan, inplace=True)\n",
    "SBER.dropna(axis=0, inplace=True)\n",
    "print('\\nКоличество строк для таблицы \"Сбербанк\" после удаления строк с нулевой логдоходностью: ' + str(SBER.shape[0]))\n",
    "print('Количество удаленных строк с нулевой логдоходностью для таблицы \"Сбербанк\": ' + str(n-SBER.shape[0]))"
   ]
  },
  {
   "cell_type": "markdown",
   "metadata": {},
   "source": [
    "### Для объединенной таблицы"
   ]
  },
  {
   "cell_type": "code",
   "execution_count": 20,
   "metadata": {},
   "outputs": [
    {
     "name": "stdout",
     "output_type": "stream",
     "text": [
      "Количество строк для объединенной таблицы после удаления строк с нулевой логдоходностью: 1521\n",
      "В объединенной таблице удалено 243 строк\n",
      "\n"
     ]
    }
   ],
   "source": [
    "n = df_stocks.shape[0]\n",
    "df_stocks['MFGS_log'].replace(0, np.nan, inplace=True)\n",
    "df_stocks.dropna(axis=0, inplace=True)\n",
    "df_stocks['YKEN_log'].replace(0, np.nan, inplace=True)\n",
    "df_stocks.dropna(axis=0, inplace=True)\n",
    "df_stocks['SBER_log'].replace(0, np.nan, inplace=True)\n",
    "df_stocks.dropna(axis=0, inplace=True)\n",
    "print('Количество строк для объединенной таблицы после удаления строк с нулевой логдоходностью: ' + str(df_stocks.shape[0]))\n",
    "print('В объединенной таблице удалено ' + str(n-df_stocks.shape[0]) + ' строк\\n')"
   ]
  },
  {
   "cell_type": "markdown",
   "metadata": {},
   "source": [
    "### Для работы с признаком «Логдоходность» создадим таблицу с именем «log_income», содержащую только этот признак для трех компаний"
   ]
  },
  {
   "cell_type": "code",
   "execution_count": 21,
   "metadata": {},
   "outputs": [
    {
     "data": {
      "text/html": [
       "<div>\n",
       "<style scoped>\n",
       "    .dataframe tbody tr th:only-of-type {\n",
       "        vertical-align: middle;\n",
       "    }\n",
       "\n",
       "    .dataframe tbody tr th {\n",
       "        vertical-align: top;\n",
       "    }\n",
       "\n",
       "    .dataframe thead th {\n",
       "        text-align: right;\n",
       "    }\n",
       "</style>\n",
       "<table border=\"1\" class=\"dataframe\">\n",
       "  <thead>\n",
       "    <tr style=\"text-align: right;\">\n",
       "      <th></th>\n",
       "      <th>MFGS_log</th>\n",
       "      <th>YKEN_log</th>\n",
       "      <th>SBER_log</th>\n",
       "    </tr>\n",
       "  </thead>\n",
       "  <tbody>\n",
       "    <tr>\n",
       "      <th>3</th>\n",
       "      <td>0.032397</td>\n",
       "      <td>-0.029853</td>\n",
       "      <td>-0.047639</td>\n",
       "    </tr>\n",
       "    <tr>\n",
       "      <th>6</th>\n",
       "      <td>0.020083</td>\n",
       "      <td>-0.007605</td>\n",
       "      <td>-0.000589</td>\n",
       "    </tr>\n",
       "    <tr>\n",
       "      <th>8</th>\n",
       "      <td>0.040633</td>\n",
       "      <td>0.101536</td>\n",
       "      <td>-0.013296</td>\n",
       "    </tr>\n",
       "    <tr>\n",
       "      <th>9</th>\n",
       "      <td>-0.036664</td>\n",
       "      <td>0.079512</td>\n",
       "      <td>0.033144</td>\n",
       "    </tr>\n",
       "  </tbody>\n",
       "</table>\n",
       "</div>"
      ],
      "text/plain": [
       "   MFGS_log  YKEN_log  SBER_log\n",
       "3  0.032397 -0.029853 -0.047639\n",
       "6  0.020083 -0.007605 -0.000589\n",
       "8  0.040633  0.101536 -0.013296\n",
       "9 -0.036664  0.079512  0.033144"
      ]
     },
     "execution_count": 21,
     "metadata": {},
     "output_type": "execute_result"
    }
   ],
   "source": [
    "log_income = df_stocks[['MFGS_log', 'YKEN_log', 'SBER_log']]\n",
    "log_income.head(4)"
   ]
  },
  {
   "cell_type": "markdown",
   "metadata": {},
   "source": [
    "## 3.3*. Графики показателей цен от времени"
   ]
  },
  {
   "cell_type": "code",
   "execution_count": 22,
   "metadata": {
    "scrolled": true
   },
   "outputs": [
    {
     "data": {
      "image/png": "[encoded data removed]",
      "text/plain": [
       "<Figure size 1296x288 with 3 Axes>"
      ]
     },
     "metadata": {
      "needs_background": "light"
     },
     "output_type": "display_data"
    }
   ],
   "source": [
    "plt.figure(figsize=(18, 4))\n",
    "\n",
    "# Для признака: цена компании Мегион-ао\n",
    "n_day = np.linspace(1, len(MFGS.MFGS_price + 1), len(MFGS.MFGS_price))  # номер дня\n",
    "plt.subplot(1, 3, 1)   # Две строки, три столбца, текущая ячейка - 1\n",
    "plt.plot(n_day, MFGS.MFGS_price, c=\"b\")\n",
    "plt.title(\"Цена Мегион-ао\")\n",
    "\n",
    "# Для признака: цена компании Якутскэнрг\n",
    "n_day = np.linspace(1, len(YKEN.YKEN_price + 1), len(YKEN.YKEN_price))  # номер дня\n",
    "plt.subplot(1, 3, 2)   # Две строки, три столбца, текущая ячейка - 2\n",
    "plt.plot(n_day, YKEN.YKEN_price, c=\"orange\")\n",
    "plt.title(\"Цена Якутскэнрг\")\n",
    "\n",
    "# Для признака: цена компании Сбербанк\n",
    "n_day = np.linspace(1, len(SBER.SBER_price + 1), len(SBER.SBER_price))  # номер дня\n",
    "plt.subplot(1, 3, 3)   # Две строки, три столбца, текущая ячейка - 3\n",
    "plt.plot(n_day, SBER.SBER_price, c=\"g\")\n",
    "plt.title(\"Цена Сбербанк\")\n",
    "\n",
    "# Покажем окно с нарисованным графиком\n",
    "plt.show()"
   ]
  },
  {
   "cell_type": "markdown",
   "metadata": {},
   "source": [
    "* Цены акций Мегион-ао имеют тенденцию к снижению.\n",
    "* Цены акций Якутскэнрг имеют тенденцию к повышению, однако наблюдалось два пика, после которых цены снижанись и снова повышались. Сейчас снова наметился тренд на повышение.\n",
    "* Цены акций Сбербанк имеют тенденцию к повышению, однако примерно на 2000-й день с начала отсчета (в нашем случае это ~ 2020 год), произошел резкий спад. Вероятно, такое резкое снижение связано с пандемией (?). К сегодняшнему дню тренд на рост снова возобновился, однако цена акций не достигла своего пикового значения."
   ]
  },
  {
   "cell_type": "markdown",
   "metadata": {},
   "source": [
    "## 3.4*. Диаграмма рассеяния"
   ]
  },
  {
   "cell_type": "code",
   "execution_count": 23,
   "metadata": {
    "scrolled": true
   },
   "outputs": [
    {
     "data": {
      "text/plain": [
       "Text(0.5, 1.0, 'Объем продаж Сбербанк от Цены Сбербанк')"
      ]
     },
     "execution_count": 23,
     "metadata": {},
     "output_type": "execute_result"
    },
    {
     "data": {
      "image/png": "[encoded data removed]",
      "text/plain": [
       "<Figure size 1296x288 with 3 Axes>"
      ]
     },
     "metadata": {
      "needs_background": "light"
     },
     "output_type": "display_data"
    }
   ],
   "source": [
    "plt.figure(figsize=(18, 4))\n",
    "\n",
    "# Для признаков: MFGS_price – MFGS_volume\n",
    "plt.subplot(1, 3, 1)\n",
    "plt.scatter(MFGS.MFGS_price, MFGS.MFGS_volume, c=\"b\")\n",
    "plt.title(\"Объем продаж Мегион-ао от Цены Мегион-ао\")\n",
    "\n",
    "# Для признаков: YKEN_price – YKEN_volume\n",
    "plt.subplot(1, 3, 2)\n",
    "plt.scatter(YKEN.YKEN_price, YKEN.YKEN_volume, c=\"orange\")\n",
    "plt.title(\"Объем продаж Якутскэнрг от Цены Якутскэнрг\")\n",
    "\n",
    "# Для признаков: SBER_price – SBER_volume\n",
    "plt.subplot(1, 3, 3)\n",
    "plt.scatter(SBER.SBER_price, SBER.SBER_volume, c=\"g\")\n",
    "plt.title(\"Объем продаж Сбербанк от Цены Сбербанк\")"
   ]
  },
  {
   "cell_type": "markdown",
   "metadata": {},
   "source": [
    "По построенным диаграммам рассеивания не наблюдается прямая зависимость объемов продаж от цен акций. Лишь немного выделяется Якутскэнрг - есть небольшая корреляция: при увеличении цен - увеличивается объем продаж, и Сбербанк - слегка прослеживается обратная корреляция."
   ]
  },
  {
   "cell_type": "markdown",
   "metadata": {},
   "source": [
    "## 3.5*. Диаграмма рассеяния для логдоходностей"
   ]
  },
  {
   "cell_type": "code",
   "execution_count": 24,
   "metadata": {
    "scrolled": true
   },
   "outputs": [
    {
     "data": {
      "text/plain": [
       "Text(0.5, 1.0, 'Логдоходность Якутскэнрг от Мегион-ао')"
      ]
     },
     "execution_count": 24,
     "metadata": {},
     "output_type": "execute_result"
    },
    {
     "data": {
      "image/png": "[encoded data removed]",
      "text/plain": [
       "<Figure size 1296x288 with 3 Axes>"
      ]
     },
     "metadata": {
      "needs_background": "light"
     },
     "output_type": "display_data"
    }
   ],
   "source": [
    "# Здесь используем диаграмму рассеяния логдоходностей трех компаний (для каждой пары компаний)\n",
    "plt.figure(figsize=(18, 4))\n",
    "\n",
    "# Логдоходность Мегион-ао от Логдоходности Сбербанка\n",
    "plt.subplot(1, 3, 1)\n",
    "plt.scatter(log_income.MFGS_log, log_income.SBER_log, c=\"grey\")\n",
    "plt.title(\"Логдоходность Мегион-ао от Сбербанка\")\n",
    "\n",
    "# Логдоходность Сбербанка от Логдоходности Якутскэнрг\n",
    "plt.subplot(1, 3, 2)\n",
    "plt.scatter(log_income.SBER_log, log_income.YKEN_log, c=\"grey\")\n",
    "plt.title(\"Логдоходность Сбербанка от Якутскэнрг\")\n",
    "\n",
    "# Логдоходность Якутскэнрг от Логдоходности Мегион-ао\n",
    "plt.subplot(1, 3, 3)\n",
    "plt.scatter(log_income.YKEN_log, log_income.MFGS_log, c=\"grey\")\n",
    "plt.title(\"Логдоходность Якутскэнрг от Мегион-ао\")"
   ]
  },
  {
   "cell_type": "markdown",
   "metadata": {},
   "source": [
    "## 3.6* Корреляционная матрица для компаний"
   ]
  },
  {
   "cell_type": "code",
   "execution_count": 29,
   "metadata": {},
   "outputs": [
    {
     "data": {
      "text/html": [
       "<style type=\"text/css\">\n",
       "#T_3c10a_row0_col0, #T_3c10a_row1_col1, #T_3c10a_row2_col2 {\n",
       "  background-color: #006837;\n",
       "  color: #f1f1f1;\n",
       "}\n",
       "#T_3c10a_row0_col1, #T_3c10a_row1_col0, #T_3c10a_row1_col2 {\n",
       "  background-color: #a50026;\n",
       "  color: #f1f1f1;\n",
       "}\n",
       "#T_3c10a_row0_col2 {\n",
       "  background-color: #c41e27;\n",
       "  color: #f1f1f1;\n",
       "}\n",
       "#T_3c10a_row2_col0 {\n",
       "  background-color: #e24731;\n",
       "  color: #f1f1f1;\n",
       "}\n",
       "#T_3c10a_row2_col1 {\n",
       "  background-color: #cc2627;\n",
       "  color: #f1f1f1;\n",
       "}\n",
       "</style>\n",
       "<table id=\"T_3c10a_\">\n",
       "  <thead>\n",
       "    <tr>\n",
       "      <th class=\"blank level0\" >&nbsp;</th>\n",
       "      <th class=\"col_heading level0 col0\" >MFGS_log</th>\n",
       "      <th class=\"col_heading level0 col1\" >YKEN_log</th>\n",
       "      <th class=\"col_heading level0 col2\" >SBER_log</th>\n",
       "    </tr>\n",
       "  </thead>\n",
       "  <tbody>\n",
       "    <tr>\n",
       "      <th id=\"T_3c10a_level0_row0\" class=\"row_heading level0 row0\" >MFGS_log</th>\n",
       "      <td id=\"T_3c10a_row0_col0\" class=\"data row0 col0\" >1.000000</td>\n",
       "      <td id=\"T_3c10a_row0_col1\" class=\"data row0 col1\" >0.153626</td>\n",
       "      <td id=\"T_3c10a_row0_col2\" class=\"data row0 col2\" >0.272554</td>\n",
       "    </tr>\n",
       "    <tr>\n",
       "      <th id=\"T_3c10a_level0_row1\" class=\"row_heading level0 row1\" >YKEN_log</th>\n",
       "      <td id=\"T_3c10a_row1_col0\" class=\"data row1 col0\" >0.153626</td>\n",
       "      <td id=\"T_3c10a_row1_col1\" class=\"data row1 col1\" >1.000000</td>\n",
       "      <td id=\"T_3c10a_row1_col2\" class=\"data row1 col2\" >0.221913</td>\n",
       "    </tr>\n",
       "    <tr>\n",
       "      <th id=\"T_3c10a_level0_row2\" class=\"row_heading level0 row2\" >SBER_log</th>\n",
       "      <td id=\"T_3c10a_row2_col0\" class=\"data row2 col0\" >0.272554</td>\n",
       "      <td id=\"T_3c10a_row2_col1\" class=\"data row2 col1\" >0.221913</td>\n",
       "      <td id=\"T_3c10a_row2_col2\" class=\"data row2 col2\" >1.000000</td>\n",
       "    </tr>\n",
       "  </tbody>\n",
       "</table>\n"
      ],
      "text/plain": [
       "<pandas.io.formats.style.Styler at 0x7f1abc0fb240>"
      ]
     },
     "execution_count": 29,
     "metadata": {},
     "output_type": "execute_result"
    }
   ],
   "source": [
    "corr = log_income.corr()\n",
    "corr.style.background_gradient(cmap='RdYlGn')"
   ]
  },
  {
   "cell_type": "markdown",
   "metadata": {},
   "source": [
    "Все коэффициенты корреляции по диагонали таблицы равны 1, потому что каждая переменная совершенна коррелирует сам с собой.\n",
    "\n",
    "Все остальные коэффициенты корреляции указывают на корреляцию между различными попарными комбинациями переменных. Так:\n",
    "* Коэффициент корреляции между Логдоходностью Мегион-ао и Логдоходностью Сбербанка равен 0.274\n",
    "* Коэффициент корреляции между Логдоходностью Сбербанка и Логдоходностью Якутскэнрг равен 0.223\n",
    "* Коэффициент корреляции между Логдоходностью Якутскэнрг и Логдоходностью Мегион-ао равен 0.154\n",
    "\n",
    "## 3.7 Проверка гипотезы о незначимости коэффициентов корреляции для тройки компаний\n"
   ]
  },
  {
   "cell_type": "code",
   "execution_count": 50,
   "metadata": {},
   "outputs": [
    {
     "name": "stdout",
     "output_type": "stream",
     "text": [
      "Для компаний 1, 2 и 3, где: \n",
      "1 - Мегион-ао\n",
      "2 - Якутскэнрг\n",
      "3 - Сбербанк\n",
      "\n",
      "Коэффициент корреляции между компаниями 1 и 2 не значим (p-value = 0.5375426577387417)\n",
      "Коэффициент корреляции между компаниями 1 и 3 не значим (p-value = 0.7865673266176336)\n",
      "Коэффициент корреляции между компаниями 2 и 3 не значим (p-value = 0.675890015643625)\n"
     ]
    }
   ],
   "source": [
    "# Создаем корреляционную матрицу\n",
    "corr_matrix = np.array(corr)\n",
    "\n",
    "# Проверяем гипотезы о незначимости коэффициентов корреляции\n",
    "print('Для компаний 1, 2 и 3, где: \\n1 - Мегион-ао\\n2 - Якутскэнрг\\n3 - Сбербанк\\n')\n",
    "for i in range(corr_matrix.shape[0]):\n",
    "    for j in range(i+1, corr_matrix.shape[1]):\n",
    "        corr_coef, p_value = pearsonr(corr_matrix[i], corr_matrix[j])\n",
    "        if p_value < 0.05:\n",
    "            print(f\"Коэффициент корреляции между компаниями {i+1} и {j+1} значим (p-value = {p_value})\")\n",
    "        else:\n",
    "            print(f\"Коэффициент корреляции между компаниями {i+1} и {j+1} не значим (p-value = {p_value})\")\n"
   ]
  },
  {
   "cell_type": "markdown",
   "metadata": {},
   "source": [
    "## 3.8*. Диаграмма размаха логдоходности"
   ]
  },
  {
   "cell_type": "code",
   "execution_count": 51,
   "metadata": {},
   "outputs": [
    {
     "name": "stderr",
     "output_type": "stream",
     "text": [
      "/opt/tljh/user/lib/python3.7/site-packages/seaborn/_decorators.py:43: FutureWarning: Pass the following variable as a keyword arg: x. From version 0.12, the only valid positional argument will be `data`, and passing other arguments without an explicit keyword will result in an error or misinterpretation.\n",
      "  FutureWarning\n",
      "/opt/tljh/user/lib/python3.7/site-packages/seaborn/_decorators.py:43: FutureWarning: Pass the following variable as a keyword arg: x. From version 0.12, the only valid positional argument will be `data`, and passing other arguments without an explicit keyword will result in an error or misinterpretation.\n",
      "  FutureWarning\n",
      "/opt/tljh/user/lib/python3.7/site-packages/seaborn/_decorators.py:43: FutureWarning: Pass the following variable as a keyword arg: x. From version 0.12, the only valid positional argument will be `data`, and passing other arguments without an explicit keyword will result in an error or misinterpretation.\n",
      "  FutureWarning\n"
     ]
    },
    {
     "data": {
      "text/plain": [
       "<matplotlib.axes._subplots.AxesSubplot at 0x7f1abbdc5780>"
      ]
     },
     "execution_count": 51,
     "metadata": {},
     "output_type": "execute_result"
    },
    {
     "data": {
      "image/png": "[encoded data removed]",
      "text/plain": [
       "<Figure size 1296x288 with 3 Axes>"
      ]
     },
     "metadata": {
      "needs_background": "light"
     },
     "output_type": "display_data"
    }
   ],
   "source": [
    "plt.figure(figsize=(18, 4))\n",
    "\n",
    "# Для Мегион-ао\n",
    "plt.subplot(1, 3, 1)\n",
    "sns.boxplot(MFGS.MFGS_log, color='blue')\n",
    "\n",
    "# Для Якутскэнрг\n",
    "plt.subplot(1, 3, 2)\n",
    "sns.boxplot(YKEN.YKEN_log, color='orange')\n",
    "\n",
    "# Для Сбербанк\n",
    "plt.subplot(1, 3, 3)\n",
    "sns.boxplot(SBER.SBER_log, color='green')"
   ]
  },
  {
   "cell_type": "markdown",
   "metadata": {},
   "source": [
    "На диаграммах мы можем наблюдать выбросы во всех трех компаниях. В шаге 6 выбросы будут удалены.\n",
    "\n",
    "## 3.9*. Диаграммы Парето\n",
    "Определение оптимальной по Парето финансовой операции.\n",
    "Пусть 𝑅1, … , 𝑅𝑛 – случайные логдоходности акций n компаний. Их математические ожидания: 𝐄(𝑅1), …, 𝐄(𝑅𝑛) и стандартные отклонения: 𝜎1, … , 𝜎𝑛. Говорят, что i-я операция доминирует j-ю, если \n",
    "{𝐄(𝑅𝑖) ≥ 𝐄(𝑅𝑗), 𝜎𝑖 < 𝜎𝑗   или   {𝐄(𝑅𝑖) > 𝐄(𝑅𝑗), 𝜎𝑖 ≤ 𝜎𝑗\n",
    "\n",
    "Операция называется оптимальной по Парето, если не существует операций, которые бы ее доминировали.\n",
    "\n",
    "Решаем задачу графически. Вычислим для каждой из компаний оценки математического ожидания и стандартного отклонения, нанесем точки на график. Данные с выбросами."
   ]
  },
  {
   "cell_type": "code",
   "execution_count": 52,
   "metadata": {},
   "outputs": [
    {
     "name": "stdout",
     "output_type": "stream",
     "text": [
      "Среднее значение логдоходности акций Мегион-ао:  -7e-05 \n",
      "Стандартное отклонение логдоходности акций Мегион-ао:  0.02927\n",
      "\n",
      "Среднее значение логдоходности акций Якутскэнрг:  0.00023 \n",
      "Стандартное отклонение логдоходности акций Якутскэнрг:  0.03982\n",
      "\n",
      "Среднее значение логдоходности акций Сбербанк:  0.00056 \n",
      "Стандартное отклонение логдоходности акций Сбербанк:  0.02775\n"
     ]
    }
   ],
   "source": [
    "m1 = log_income.MFGS_log.mean()\n",
    "s1 = log_income.MFGS_log.std()\n",
    "print('Среднее значение логдоходности акций Мегион-ао: ', m1.round(5),\n",
    "      '\\nСтандартное отклонение логдоходности акций Мегион-ао: ', s1.round(5))\n",
    "\n",
    "m2 = log_income.YKEN_log.mean()\n",
    "s2 = log_income.YKEN_log.std()\n",
    "print('\\nСреднее значение логдоходности акций Якутскэнрг: ', m2.round(5),\n",
    "      '\\nСтандартное отклонение логдоходности акций Якутскэнрг: ', s2.round(5))\n",
    "\n",
    "m3 = log_income.SBER_log.mean()\n",
    "s3 = log_income.SBER_log.std()\n",
    "print('\\nСреднее значение логдоходности акций Сбербанк: ', m3.round(5),\n",
    "      '\\nСтандартное отклонение логдоходности акций Сбербанк: ', s3.round(5))"
   ]
  },
  {
   "cell_type": "code",
   "execution_count": 53,
   "metadata": {},
   "outputs": [
    {
     "data": {
      "image/png": "[encoded data removed]",
      "text/plain": [
       "<Figure size 432x288 with 1 Axes>"
      ]
     },
     "metadata": {
      "needs_background": "light"
     },
     "output_type": "display_data"
    }
   ],
   "source": [
    "# Точки с координатами (𝑚𝑖; 𝑠𝑖) наносим на график\n",
    "plt.plot([m1], [s1], 'o', label='Мегион-ао')\n",
    "plt.plot([m2], [s2], 'o', label='Якутскэнрг')\n",
    "plt.plot([m3], [s3], 'o', label='Сбербанк')\n",
    "plt.legend()\n",
    "plt.xlabel('Среднее значение')\n",
    "plt.ylabel('Стандартное отклонение (риск)')\n",
    "plt.title('Риск-доходность')\n",
    "plt.grid(True, linestyle='-', color='0.4')\n",
    "plt.show()"
   ]
  },
  {
   "cell_type": "markdown",
   "metadata": {},
   "source": [
    "Операции Якутскэнрг и Мегион-ао не являются оптимальными. Их доминирует операция **Сбербанк**, у которой и среднее значение больше и стандартное отклонение (риск) меньше."
   ]
  },
  {
   "cell_type": "markdown",
   "metadata": {},
   "source": [
    "## 4. Гистограмма\n",
    "Для трех признаков компании К1. Используем функцию matplotlib.pyplot.hist(). Параметр bins задает число интервалов  группировки, параметр edgecolor добавляет небольшой пробел между столбиками"
   ]
  },
  {
   "cell_type": "code",
   "execution_count": 54,
   "metadata": {},
   "outputs": [
    {
     "data": {
      "text/plain": [
       "Text(0.5, 1.0, 'Логдоходность Мегион-ао')"
      ]
     },
     "execution_count": 54,
     "metadata": {},
     "output_type": "execute_result"
    },
    {
     "data": {
      "image/png": "[encoded data removed]",
      "text/plain": [
       "<Figure size 1296x288 with 3 Axes>"
      ]
     },
     "metadata": {
      "needs_background": "light"
     },
     "output_type": "display_data"
    }
   ],
   "source": [
    "plt.figure(figsize=(18, 4))\n",
    "\n",
    "# Признак: «Цена»\n",
    "plt.subplot(1, 3, 1)\n",
    "plt.hist(MFGS.MFGS_price, bins=25, edgecolor='white', color=\"b\")\n",
    "plt.title('Цена Мегион-ао')\n",
    "\n",
    "# Признак: «Объем»\n",
    "plt.subplot(1, 3, 2)\n",
    "plt.hist(MFGS.MFGS_volume, bins=25, edgecolor='white', color=\"b\")\n",
    "plt.title('Объем Мегион-ао')\n",
    "\n",
    "# Признак: «Логдоходность»\n",
    "plt.subplot(1, 3, 3)\n",
    "plt.hist(MFGS.MFGS_log, bins=25, edgecolor='white', color=\"b\")\n",
    "plt.title('Логдоходность Мегион-ао')"
   ]
  },
  {
   "cell_type": "markdown",
   "metadata": {},
   "source": [
    "Виды распределений:\n",
    "* Цена Мегион-ао: \n",
    "    * ассимметрия 1.15681,\n",
    "    * эксцесс 0.609323\n",
    "* Объем Мегион-ао: \n",
    "    * ассимметрия 9.209316,\n",
    "    * эксцесс 140.231367,\n",
    "    * гистограмма скошенная\n",
    "* Логдоходность Мегион-ао:\n",
    "    * ассимметрия 0.759251,\n",
    "    * эксцесс 20.02003,\n",
    "    * гистограмма колокообразная,\n",
    "    * распределение ненормальное"
   ]
  },
  {
   "cell_type": "code",
   "execution_count": 55,
   "metadata": {},
   "outputs": [
    {
     "data": {
      "text/plain": [
       "Text(0.5, 1.0, 'Логдоходность Якутскэнрг')"
      ]
     },
     "execution_count": 55,
     "metadata": {},
     "output_type": "execute_result"
    },
    {
     "data": {
      "image/png": "[encoded data removed]",
      "text/plain": [
       "<Figure size 1296x288 with 3 Axes>"
      ]
     },
     "metadata": {
      "needs_background": "light"
     },
     "output_type": "display_data"
    }
   ],
   "source": [
    "plt.figure(figsize=(18, 4))\n",
    "\n",
    "# Признак: «Цена»\n",
    "plt.subplot(1, 3, 1)\n",
    "plt.hist(YKEN.YKEN_price, bins=25, edgecolor='white', color=\"orange\")\n",
    "plt.title('Цена Якутскэнрг')\n",
    "\n",
    "# Признак: «Объем»\n",
    "plt.subplot(1, 3, 2)\n",
    "plt.hist(YKEN.YKEN_volume, bins=25, edgecolor='white', color=\"orange\")\n",
    "plt.title('Объем Якутскэнрг')\n",
    "\n",
    "# Признак: «Логдоходность»\n",
    "plt.subplot(1, 3, 3)\n",
    "plt.hist(YKEN.YKEN_log, bins=25, edgecolor='white', color=\"orange\")\n",
    "plt.title('Логдоходность Якутскэнрг')"
   ]
  },
  {
   "cell_type": "markdown",
   "metadata": {},
   "source": [
    "Виды распределений:\n",
    "* Цена Якутскэнрг:\n",
    "    * ассимметрия 0.097395,\n",
    "    * эксцесс -0.477944\n",
    "* Объем Якутскэнрг: \n",
    "    * ассимметрия 8.486761,\n",
    "    * эксцесс 106.381841,\n",
    "    * гистограмма скошенная\n",
    "* Логдоходность Якутскэнрг:\n",
    "    * ассимметрия 0.787414,\n",
    "    * эксцесс 13.312678,\n",
    "    * гистограмма колокообразная,\n",
    "    * распределение ненормальное, см. п. 10"
   ]
  },
  {
   "cell_type": "code",
   "execution_count": 56,
   "metadata": {},
   "outputs": [
    {
     "data": {
      "text/plain": [
       "Text(0.5, 1.0, 'Логдоходность Сбербанк')"
      ]
     },
     "execution_count": 56,
     "metadata": {},
     "output_type": "execute_result"
    },
    {
     "data": {
      "image/png": "[encoded data removed]",
      "text/plain": [
       "<Figure size 1296x288 with 3 Axes>"
      ]
     },
     "metadata": {
      "needs_background": "light"
     },
     "output_type": "display_data"
    }
   ],
   "source": [
    "plt.figure(figsize=(18, 4))\n",
    "\n",
    "# Признак: «Цена»\n",
    "plt.subplot(1, 3, 1)\n",
    "plt.hist(SBER.SBER_price, bins=25, edgecolor='white', color=\"g\")\n",
    "plt.title('Цена Сбербанк')\n",
    "\n",
    "# Признак: «Объем»\n",
    "plt.subplot(1, 3, 2)\n",
    "plt.hist(SBER.SBER_volume, bins=25, edgecolor='white', color=\"g\")\n",
    "plt.title('Объем Сбербанк')\n",
    "\n",
    "# Признак: «Логдоходность»\n",
    "plt.subplot(1, 3, 3)\n",
    "plt.hist(SBER.SBER_log, bins=25, edgecolor='white', color=\"g\")\n",
    "plt.title('Логдоходность Сбербанк')"
   ]
  },
  {
   "cell_type": "markdown",
   "metadata": {},
   "source": [
    "Виды распределений:\n",
    "* Цена Сбербанк:\n",
    "    * ассимметрия 0.202755,\n",
    "    * эксцесс -0.716791,\n",
    "* Объем Сбербанк:\n",
    "    * ассимметрия 5.961399,\n",
    "    * эксцесс 73.061345\n",
    "    * гистограмма скошенная\n",
    "* Логдоходность Сбербанк:\n",
    "    * ассимметрия -3.854302,\n",
    "    * эксцесс 73.061345,\n",
    "    * гистограмма колокообразная,\n",
    "    * распределение ненормальное, см. п. 10"
   ]
  },
  {
   "cell_type": "markdown",
   "metadata": {},
   "source": [
    "## 5. Описательная статистика"
   ]
  },
  {
   "cell_type": "code",
   "execution_count": 57,
   "metadata": {},
   "outputs": [],
   "source": [
    "a = pd.DataFrame(sts.describe(MFGS.MFGS_price), index=['nobs', 'minmax', 'mean', 'variance', 'skewness', 'kurtosis'], columns=['MFGS_price']).T\n",
    "b = pd.DataFrame(sts.describe(MFGS.MFGS_volume), index=['nobs', 'minmax', 'mean', 'variance', 'skewness', 'kurtosis'], columns=['MFGS_volume']).T\n",
    "c = pd.DataFrame(sts.describe(MFGS.MFGS_log), index=['nobs', 'minmax', 'mean', 'variance', 'skewness', 'kurtosis'], columns=['MFGS_log']).T\n",
    "d = pd.DataFrame(sts.describe(YKEN.YKEN_price), index=['nobs', 'minmax', 'mean', 'variance', 'skewness', 'kurtosis'], columns=['YKEN_price']).T\n",
    "e = pd.DataFrame(sts.describe(YKEN.YKEN_volume), index=['nobs', 'minmax', 'mean', 'variance', 'skewness', 'kurtosis'], columns=['YKEN_volume']).T\n",
    "f = pd.DataFrame(sts.describe(YKEN.YKEN_log), index=['nobs', 'minmax', 'mean', 'variance', 'skewness', 'kurtosis'], columns=['YKEN_log']).T\n",
    "g = pd.DataFrame(sts.describe(SBER.SBER_price), index=['nobs', 'minmax', 'mean', 'variance', 'skewness', 'kurtosis'], columns=['SBER_price']).T\n",
    "h = pd.DataFrame(sts.describe(SBER.SBER_volume), index=['nobs', 'minmax', 'mean', 'variance', 'skewness', 'kurtosis'], columns=['SBER_volume']).T\n",
    "i = pd.DataFrame(sts.describe(SBER.SBER_log), index=['nobs', 'minmax', 'mean', 'variance', 'skewness', 'kurtosis'], columns=['SBER_log']).T"
   ]
  },
  {
   "cell_type": "code",
   "execution_count": 58,
   "metadata": {},
   "outputs": [
    {
     "data": {
      "text/html": [
       "<div>\n",
       "<style scoped>\n",
       "    .dataframe tbody tr th:only-of-type {\n",
       "        vertical-align: middle;\n",
       "    }\n",
       "\n",
       "    .dataframe tbody tr th {\n",
       "        vertical-align: top;\n",
       "    }\n",
       "\n",
       "    .dataframe thead th {\n",
       "        text-align: right;\n",
       "    }\n",
       "</style>\n",
       "<table border=\"1\" class=\"dataframe\">\n",
       "  <thead>\n",
       "    <tr style=\"text-align: right;\">\n",
       "      <th></th>\n",
       "      <th>nobs</th>\n",
       "      <th>minmax</th>\n",
       "      <th>mean</th>\n",
       "      <th>variance</th>\n",
       "      <th>skewness</th>\n",
       "      <th>kurtosis</th>\n",
       "    </tr>\n",
       "  </thead>\n",
       "  <tbody>\n",
       "    <tr>\n",
       "      <th>MFGS_price</th>\n",
       "      <td>1700</td>\n",
       "      <td>(256.0, 894.0)</td>\n",
       "      <td>429.113</td>\n",
       "      <td>17873.733115</td>\n",
       "      <td>1.164679</td>\n",
       "      <td>0.626483</td>\n",
       "    </tr>\n",
       "    <tr>\n",
       "      <th>MFGS_volume</th>\n",
       "      <td>1700</td>\n",
       "      <td>(10.0, 69730.0)</td>\n",
       "      <td>1257.017647</td>\n",
       "      <td>10016186.332826</td>\n",
       "      <td>9.13465</td>\n",
       "      <td>147.278424</td>\n",
       "    </tr>\n",
       "    <tr>\n",
       "      <th>MFGS_log</th>\n",
       "      <td>1700</td>\n",
       "      <td>(-0.27369583047704105, 0.33487031397187955)</td>\n",
       "      <td>-0.000187</td>\n",
       "      <td>0.000868</td>\n",
       "      <td>0.762326</td>\n",
       "      <td>20.136858</td>\n",
       "    </tr>\n",
       "    <tr>\n",
       "      <th>YKEN_price</th>\n",
       "      <td>1932</td>\n",
       "      <td>(0.1152, 0.513)</td>\n",
       "      <td>0.286304</td>\n",
       "      <td>0.0055</td>\n",
       "      <td>0.094647</td>\n",
       "      <td>-0.463525</td>\n",
       "    </tr>\n",
       "    <tr>\n",
       "      <th>YKEN_volume</th>\n",
       "      <td>1932</td>\n",
       "      <td>(10000.0, 56530000.0)</td>\n",
       "      <td>1248317.805383</td>\n",
       "      <td>9464537665907.556641</td>\n",
       "      <td>8.438677</td>\n",
       "      <td>105.479729</td>\n",
       "    </tr>\n",
       "    <tr>\n",
       "      <th>YKEN_log</th>\n",
       "      <td>1932</td>\n",
       "      <td>(-0.2502606874036345, 0.33491399711619935)</td>\n",
       "      <td>0.000415</td>\n",
       "      <td>0.001445</td>\n",
       "      <td>0.787772</td>\n",
       "      <td>13.362154</td>\n",
       "    </tr>\n",
       "    <tr>\n",
       "      <th>SBER_price</th>\n",
       "      <td>2188</td>\n",
       "      <td>(53.5, 387.6)</td>\n",
       "      <td>181.484776</td>\n",
       "      <td>5562.626848</td>\n",
       "      <td>0.203011</td>\n",
       "      <td>-0.705051</td>\n",
       "    </tr>\n",
       "    <tr>\n",
       "      <th>SBER_volume</th>\n",
       "      <td>2188</td>\n",
       "      <td>(6508460.0, 1084508440.0)</td>\n",
       "      <td>75331858.21755</td>\n",
       "      <td>3611518968931862.5</td>\n",
       "      <td>5.911932</td>\n",
       "      <td>71.655495</td>\n",
       "    </tr>\n",
       "    <tr>\n",
       "      <th>SBER_log</th>\n",
       "      <td>2188</td>\n",
       "      <td>(-0.4559182857381973, 0.12132025100025814)</td>\n",
       "      <td>0.000377</td>\n",
       "      <td>0.000572</td>\n",
       "      <td>-3.778774</td>\n",
       "      <td>66.732454</td>\n",
       "    </tr>\n",
       "  </tbody>\n",
       "</table>\n",
       "</div>"
      ],
      "text/plain": [
       "             nobs                                       minmax  \\\n",
       "MFGS_price   1700                               (256.0, 894.0)   \n",
       "MFGS_volume  1700                              (10.0, 69730.0)   \n",
       "MFGS_log     1700  (-0.27369583047704105, 0.33487031397187955)   \n",
       "YKEN_price   1932                              (0.1152, 0.513)   \n",
       "YKEN_volume  1932                        (10000.0, 56530000.0)   \n",
       "YKEN_log     1932   (-0.2502606874036345, 0.33491399711619935)   \n",
       "SBER_price   2188                                (53.5, 387.6)   \n",
       "SBER_volume  2188                    (6508460.0, 1084508440.0)   \n",
       "SBER_log     2188   (-0.4559182857381973, 0.12132025100025814)   \n",
       "\n",
       "                       mean              variance  skewness    kurtosis  \n",
       "MFGS_price          429.113          17873.733115  1.164679    0.626483  \n",
       "MFGS_volume     1257.017647       10016186.332826   9.13465  147.278424  \n",
       "MFGS_log          -0.000187              0.000868  0.762326   20.136858  \n",
       "YKEN_price         0.286304                0.0055  0.094647   -0.463525  \n",
       "YKEN_volume  1248317.805383  9464537665907.556641  8.438677  105.479729  \n",
       "YKEN_log           0.000415              0.001445  0.787772   13.362154  \n",
       "SBER_price       181.484776           5562.626848  0.203011   -0.705051  \n",
       "SBER_volume  75331858.21755    3611518968931862.5  5.911932   71.655495  \n",
       "SBER_log           0.000377              0.000572 -3.778774   66.732454  "
      ]
     },
     "execution_count": 58,
     "metadata": {},
     "output_type": "execute_result"
    }
   ],
   "source": [
    "pd.concat([a, b, c, d, e, f, g, h, i])"
   ]
  },
  {
   "cell_type": "markdown",
   "metadata": {},
   "source": [
    "## 6. Удаление выбросов логдоходности\n",
    "Для каждой из компаний вычислим квартили, размах и границы выбросов. Затем последовательно удалим строки с выбросами по первой, второй и третьей компании. Новую таблицу назовем log_income_out.\n",
    "\n",
    "Выбросами считаются любые значения, не попадающие в отрезок [𝑥0,25 − 1,5𝐼𝑄𝑅; 𝑥0,75 + 1,5𝐼𝑄𝑅]. 𝑥0,25 = 𝑄1 – нижняя квартиль; 𝑥0,75 = 𝑄3; IQR – межквартильный размах, разность между третьим и первым квартилями, 𝐼𝑄𝑅 = 𝑥0,75 − 𝑥0,25."
   ]
  },
  {
   "cell_type": "code",
   "execution_count": 60,
   "metadata": {},
   "outputs": [],
   "source": [
    "# Квантили для компании Мегион-ао\n",
    "Q1_1 = np.quantile(log_income.MFGS_log, 0.25)\n",
    "Q3_1 = np.quantile(log_income.MFGS_log, 0.75)\n",
    "R = Q3_1 - Q1_1\n",
    "# Границы выбросов для компании Мегион-ао\n",
    "L1 = Q1_1 - 1.5 * R\n",
    "U1 = Q3_1 + 1.5 * R\n",
    "\n",
    "# Квантили для компании Якутскэнрг\n",
    "Q1_2 = np.quantile(log_income.YKEN_log, 0.25)\n",
    "Q3_2 = np.quantile(log_income.YKEN_log, 0.75)\n",
    "R = Q3_2 - Q1_2\n",
    "# Границы выбросов для компании Якутскэнрг\n",
    "L2 = Q1_2 - 1.5 * R\n",
    "U2 = Q3_2 + 1.5 * R\n",
    "\n",
    "# Квантили для компании Сбербанк\n",
    "Q1_3 = np.quantile(log_income.SBER_log, 0.25)\n",
    "Q3_3 = np.quantile(log_income.SBER_log, 0.75)\n",
    "R = Q3_3 - Q1_3\n",
    "# Границы выбросов для компании Сбербанк\n",
    "L3 = Q1_3 - 1.5 * R\n",
    "U3 = Q3_3 + 1.5 * R\n",
    "\n",
    "# Удаляем выбросы для компании Мегион-ао\n",
    "log_income_out = log_income[log_income.MFGS_log > L1]\n",
    "log_income_out = log_income_out[log_income_out.MFGS_log < U1]\n",
    "\n",
    "# Удаляем выбросы для компании Якутскэнрг\n",
    "log_income_out = log_income_out[log_income_out.YKEN_log > L2]\n",
    "log_income_out = log_income_out[log_income_out.YKEN_log < U2]\n",
    "\n",
    "# Удаляем выбросы для компании Сбербанк\n",
    "log_income_out = log_income_out[log_income_out.SBER_log > L3]\n",
    "log_income_out = log_income_out[log_income_out.SBER_log < U3]"
   ]
  },
  {
   "cell_type": "code",
   "execution_count": 61,
   "metadata": {},
   "outputs": [
    {
     "name": "stdout",
     "output_type": "stream",
     "text": [
      "Длина полученной таблицы уменьшилась на 256 строк\n"
     ]
    }
   ],
   "source": [
    "print('Длина полученной таблицы уменьшилась на', len(log_income)-len(log_income_out), 'строк')"
   ]
  },
  {
   "cell_type": "code",
   "execution_count": 62,
   "metadata": {},
   "outputs": [
    {
     "name": "stderr",
     "output_type": "stream",
     "text": [
      "/opt/tljh/user/lib/python3.7/site-packages/seaborn/_decorators.py:43: FutureWarning: Pass the following variable as a keyword arg: x. From version 0.12, the only valid positional argument will be `data`, and passing other arguments without an explicit keyword will result in an error or misinterpretation.\n",
      "  FutureWarning\n",
      "/opt/tljh/user/lib/python3.7/site-packages/seaborn/_decorators.py:43: FutureWarning: Pass the following variable as a keyword arg: x. From version 0.12, the only valid positional argument will be `data`, and passing other arguments without an explicit keyword will result in an error or misinterpretation.\n",
      "  FutureWarning\n",
      "/opt/tljh/user/lib/python3.7/site-packages/seaborn/_decorators.py:43: FutureWarning: Pass the following variable as a keyword arg: x. From version 0.12, the only valid positional argument will be `data`, and passing other arguments without an explicit keyword will result in an error or misinterpretation.\n",
      "  FutureWarning\n"
     ]
    },
    {
     "data": {
      "text/plain": [
       "<matplotlib.axes._subplots.AxesSubplot at 0x7f1abb693668>"
      ]
     },
     "execution_count": 62,
     "metadata": {},
     "output_type": "execute_result"
    },
    {
     "data": {
      "image/png": "[encoded data removed]",
      "text/plain": [
       "<Figure size 1296x288 with 3 Axes>"
      ]
     },
     "metadata": {
      "needs_background": "light"
     },
     "output_type": "display_data"
    }
   ],
   "source": [
    "plt.figure(figsize=(18, 4))\n",
    "\n",
    "# Для Мегион-ао\n",
    "plt.subplot(1, 3, 1)\n",
    "sns.boxplot(log_income_out.MFGS_log, color='blue')\n",
    "\n",
    "# Для Якутскэнрг\n",
    "plt.subplot(1, 3, 2)\n",
    "sns.boxplot(log_income_out.YKEN_log, color='orange')\n",
    "\n",
    "# Для Сбербанк\n",
    "plt.subplot(1, 3, 3)\n",
    "sns.boxplot(log_income_out.SBER_log, color='green')"
   ]
  },
  {
   "cell_type": "markdown",
   "metadata": {},
   "source": [
    "Так выглядят \"ящики с усами\" очищенные от выбросов. \n",
    "\n",
    "## 7. Гистограмма логдоходности без выбросов"
   ]
  },
  {
   "cell_type": "code",
   "execution_count": 63,
   "metadata": {},
   "outputs": [
    {
     "data": {
      "text/plain": [
       "Text(0.5, 1.0, 'Логдоходность без выбросов\\nСбербанк')"
      ]
     },
     "execution_count": 63,
     "metadata": {},
     "output_type": "execute_result"
    },
    {
     "data": {
      "image/png": "[encoded data removed]",
      "text/plain": [
       "<Figure size 1296x288 with 3 Axes>"
      ]
     },
     "metadata": {
      "needs_background": "light"
     },
     "output_type": "display_data"
    }
   ],
   "source": [
    "plt.figure(figsize=(18, 4))\n",
    "\n",
    "plt.subplot(1, 3, 1)\n",
    "plt.hist(log_income_out.MFGS_log, bins=25, edgecolor='white', color=\"b\")\n",
    "plt.title('Логдоходность без выбросов\\nМегион-ао')\n",
    "\n",
    "plt.subplot(1, 3, 2)\n",
    "plt.hist(log_income_out.YKEN_log, bins=25, edgecolor='white', color=\"orange\")\n",
    "plt.title('Логдоходность без выбросов\\nЯкутскэнрг')\n",
    "\n",
    "plt.subplot(1, 3, 3)\n",
    "plt.hist(log_income_out.SBER_log, bins=25, edgecolor='white', color=\"g\")\n",
    "plt.title('Логдоходность без выбросов\\nСбербанк')"
   ]
  },
  {
   "cell_type": "markdown",
   "metadata": {},
   "source": [
    "Графики логдоходности также приобрели более нормальный (колоколообразный) вид.\n",
    "\n",
    "## 7.1*. Графики эмпирической плотности\n",
    "Эмпирическую плотность распределения (ядерную оценку) строит функция gaussian_kde модуля scipy.stats.\n",
    "\n",
    "**Для логдоходности с выбросами**"
   ]
  },
  {
   "cell_type": "code",
   "execution_count": 64,
   "metadata": {},
   "outputs": [
    {
     "data": {
      "text/plain": [
       "Text(0.5, 1.0, 'KDE Сбербанк')"
      ]
     },
     "execution_count": 64,
     "metadata": {},
     "output_type": "execute_result"
    },
    {
     "data": {
      "image/png": "[encoded data removed]",
      "text/plain": [
       "<Figure size 1296x288 with 3 Axes>"
      ]
     },
     "metadata": {
      "needs_background": "light"
     },
     "output_type": "display_data"
    }
   ],
   "source": [
    "plt.figure(figsize=(18, 4))\n",
    "\n",
    "# Вычисляем квантили уровней 0,01 и 0,99. Это - границы для независимой переменной при построении графика\n",
    "xmin = np.quantile(log_income.MFGS_log, 0.01)\n",
    "xmax = np.quantile(log_income.MFGS_log, 0.99)\n",
    "x = np.linspace(xmin, xmax, 100) # 100 значений независимой переменной\n",
    "\n",
    "# Оценка плотности распределения по выборке\n",
    "f_kernel = gaussian_kde(log_income.MFGS_log)\n",
    "\n",
    "# График полученной функции\n",
    "plt.subplot(1, 3, 1)\n",
    "plt.plot(x, f_kernel(x), label='KDE', color='r')\n",
    "# На том же графике построим гистограмму.\n",
    "# Для получения гистограммы относительных частот (такая гистограмма дает оценку плотности распределения),\n",
    "# задаем признак: density=True\n",
    "plt.hist(log_income.MFGS_log, bins=25, edgecolor='white', density=True, label='Hist', color='b');\n",
    "plt.legend()\n",
    "plt.title('KDE Мегион-ао')\n",
    "\n",
    "f_kernel = gaussian_kde(log_income.YKEN_log)\n",
    "plt.subplot(1, 3, 2)\n",
    "plt.plot(x, f_kernel(x), label='KDE', color='r')\n",
    "plt.hist(log_income.YKEN_log, bins=25, edgecolor='white', density=True, label='Hist', color='orange');\n",
    "plt.legend()\n",
    "plt.title('KDE Якутскэнрг')\n",
    "\n",
    "f_kernel = gaussian_kde(log_income.SBER_log)\n",
    "plt.subplot(1, 3, 3)\n",
    "plt.plot(x, f_kernel(x), label='KDE', color='r')\n",
    "plt.hist(log_income.SBER_log, bins=25, edgecolor='white', density=True, label='Hist', color='g');\n",
    "plt.legend()\n",
    "plt.title('KDE Сбербанк')"
   ]
  },
  {
   "cell_type": "markdown",
   "metadata": {},
   "source": [
    "**Для логдоходности без выбросов**"
   ]
  },
  {
   "cell_type": "code",
   "execution_count": 65,
   "metadata": {},
   "outputs": [
    {
     "data": {
      "text/plain": [
       "Text(0.5, 1.0, 'KDE Сбербанк')"
      ]
     },
     "execution_count": 65,
     "metadata": {},
     "output_type": "execute_result"
    },
    {
     "data": {
      "image/png": "[encoded data removed]",
      "text/plain": [
       "<Figure size 1296x288 with 3 Axes>"
      ]
     },
     "metadata": {
      "needs_background": "light"
     },
     "output_type": "display_data"
    }
   ],
   "source": [
    "plt.figure(figsize=(18, 4))\n",
    "\n",
    "xmin = np.quantile(log_income_out.MFGS_log, 0.01)\n",
    "xmax = np.quantile(log_income_out.MFGS_log, 0.99)\n",
    "x = np.linspace(xmin, xmax, 100) # 100 значений независимой переменной\n",
    "f_kernel = gaussian_kde(log_income_out.MFGS_log)\n",
    "plt.subplot(1, 3, 1)\n",
    "plt.plot(x, f_kernel(x), label='KDE', color='r')\n",
    "plt.hist(log_income_out.MFGS_log, bins=25, edgecolor='white', density=True, label='Hist', color='b');\n",
    "plt.legend()\n",
    "plt.title('KDE Мегион-ао')\n",
    "\n",
    "f_kernel = gaussian_kde(log_income_out.YKEN_log)\n",
    "plt.subplot(1, 3, 2)\n",
    "plt.plot(x, f_kernel(x), label='KDE', color='r')\n",
    "plt.hist(log_income_out.YKEN_log, bins=25, edgecolor='white', density=True, label='Hist', color='orange');\n",
    "plt.legend()\n",
    "plt.title('KDE Якутскэнрг')\n",
    "\n",
    "f_kernel = gaussian_kde(log_income_out.SBER_log)\n",
    "plt.subplot(1, 3, 3)\n",
    "plt.plot(x, f_kernel(x), label='KDE', color='r')\n",
    "plt.hist(log_income_out.SBER_log, bins=25, edgecolor='white', density=True, label='Hist', color='g');\n",
    "plt.legend()\n",
    "plt.title('KDE Сбербанк')"
   ]
  },
  {
   "cell_type": "markdown",
   "metadata": {},
   "source": [
    "## 7.2*. Графики выборочной функции распределения\n",
    "Выборочную функцию распределения строит функция ECDF модуля statsmodels.distributions.empirical_distribution.\n",
    "\n",
    "**Для логдоходности с выбросами**"
   ]
  },
  {
   "cell_type": "code",
   "execution_count": 66,
   "metadata": {},
   "outputs": [],
   "source": [
    "from statsmodels.distributions.empirical_distribution import ECDF"
   ]
  },
  {
   "cell_type": "code",
   "execution_count": 67,
   "metadata": {},
   "outputs": [
    {
     "data": {
      "text/plain": [
       "Text(0.5, 1.0, 'ECDF-Сбербанк')"
      ]
     },
     "execution_count": 67,
     "metadata": {},
     "output_type": "execute_result"
    },
    {
     "data": {
      "image/png": "[encoded data removed]",
      "text/plain": [
       "<Figure size 1296x288 with 3 Axes>"
      ]
     },
     "metadata": {
      "needs_background": "light"
     },
     "output_type": "display_data"
    }
   ],
   "source": [
    "plt.figure(figsize=(18, 4))\n",
    "\n",
    "ecdf = ECDF(log_income.MFGS_log) # получение объекта ecdf.\n",
    "#  ecdf содержит информацию об эмпирической функции Распределения признака «К1-Логдоходность»\n",
    "# Метод ecdf.x дает значения точек скачков эмпирической функции (по оси Ox),\n",
    "# метод ecdf.y дает значения ступеней функции (по оси Oy)\n",
    "plt.subplot(1, 3, 1)\n",
    "plt.step(ecdf.x, ecdf.y, color='b')\n",
    "plt.title(\"ECDF-Мегион-ао\")\n",
    "\n",
    "ecdf = ECDF(log_income.YKEN_log) # получение объекта ecdf.\n",
    "plt.subplot(1, 3, 2)\n",
    "plt.step(ecdf.x, ecdf.y, color='orange')\n",
    "plt.title(\"ECDF-Якутскэнрг\")\n",
    "\n",
    "ecdf = ECDF(log_income.SBER_log) # получение объекта ecdf.\n",
    "plt.subplot(1, 3, 3)\n",
    "plt.step(ecdf.x, ecdf.y, color='g')\n",
    "plt.title(\"ECDF-Сбербанк\")"
   ]
  },
  {
   "cell_type": "markdown",
   "metadata": {},
   "source": [
    "**Для логдоходности без выбросов**"
   ]
  },
  {
   "cell_type": "code",
   "execution_count": 68,
   "metadata": {},
   "outputs": [
    {
     "data": {
      "text/plain": [
       "Text(0.5, 1.0, 'ECDF-Сбербанк')"
      ]
     },
     "execution_count": 68,
     "metadata": {},
     "output_type": "execute_result"
    },
    {
     "data": {
      "image/png": "[encoded data removed]",
      "text/plain": [
       "<Figure size 1296x288 with 3 Axes>"
      ]
     },
     "metadata": {
      "needs_background": "light"
     },
     "output_type": "display_data"
    }
   ],
   "source": [
    "plt.figure(figsize=(18, 4))\n",
    "\n",
    "ecdf = ECDF(log_income_out.MFGS_log)\n",
    "plt.subplot(1, 3, 1)\n",
    "plt.step(ecdf.x, ecdf.y, color='b')\n",
    "plt.title(\"ECDF-Мегион-ао\")\n",
    "\n",
    "ecdf = ECDF(log_income_out.YKEN_log) # получение объекта ecdf.\n",
    "plt.subplot(1, 3, 2)\n",
    "plt.step(ecdf.x, ecdf.y, color='orange')\n",
    "plt.title(\"ECDF-Якутскэнрг\")\n",
    "\n",
    "ecdf = ECDF(log_income_out.SBER_log) # получение объекта ecdf.\n",
    "plt.subplot(1, 3, 3)\n",
    "plt.step(ecdf.x, ecdf.y, color='g')\n",
    "plt.title(\"ECDF-Сбербанк\")"
   ]
  },
  {
   "cell_type": "markdown",
   "metadata": {},
   "source": [
    "## 7.3**. Графики гистограммы частот и теоретической функции распределения\n",
    "Для построения гистограммы используется функция hist() модуля matplotlib.pyplot. Теоретическое распределение – нормальное, плотность нормального закона распределения в точке x позволяет получить функция scipy.stats.norm(m,s).pdf(x). Параметры m и s – это математическое ожидание и стандартное отклонение случайной величины X (Логдоходность). В качестве m и s используем выборочное среднее и исправленное выборочное стандартное отклонение, определяемые по выборке. Для построения графика плотности распределения нужно указать массив значений независимой переменной x и отрезок, на котором будут задаваться эти значения. В качестве такого отрезка можно взять квантили выборки уровня 0,01 и 0,99\n",
    "\n",
    "**С выбросами**"
   ]
  },
  {
   "cell_type": "code",
   "execution_count": 69,
   "metadata": {},
   "outputs": [
    {
     "data": {
      "text/plain": [
       "<matplotlib.legend.Legend at 0x7f1ab8ba10f0>"
      ]
     },
     "execution_count": 69,
     "metadata": {},
     "output_type": "execute_result"
    },
    {
     "data": {
      "image/png": "[encoded data removed]",
      "text/plain": [
       "<Figure size 1296x288 with 3 Axes>"
      ]
     },
     "metadata": {
      "needs_background": "light"
     },
     "output_type": "display_data"
    }
   ],
   "source": [
    "plt.figure(figsize=(18, 4))\n",
    "\n",
    "# Мегион-ао\n",
    "m = log_income.MFGS_log.mean() # выборочное среднее\n",
    "s = log_income.MFGS_log.std() # выборочное стандартное отклонение\n",
    "xmin = np.quantile(log_income.MFGS_log, 0.01) # границы\n",
    "xmax = np.quantile(log_income.MFGS_log, 0.99) # отрезка\n",
    "x = np.linspace(xmin, xmax, 100) # 100 значений независимой переменной\n",
    "plt.subplot(1, 3, 1)\n",
    "plt.hist(log_income.MFGS_log, bins=25, edgecolor='white', density=True, color='b', label='Мегион-ао') # гистограмма\n",
    "f_norm = sts.norm(m,s).pdf(x) # массив значений теоретической плотности f(x)\n",
    "plt.plot(x,f_norm, c='r', lw=2, label='Norm') # график плотности\n",
    "plt.legend() # легенда\n",
    "\n",
    "# Якутскэнрг\n",
    "m = log_income.YKEN_log.mean()\n",
    "s = log_income.YKEN_log.std()\n",
    "xmin = np.quantile(log_income.YKEN_log, 0.01)\n",
    "xmax = np.quantile(log_income.YKEN_log, 0.99)\n",
    "x = np.linspace(xmin, xmax, 100)\n",
    "plt.subplot(1, 3, 2)\n",
    "plt.hist(log_income.YKEN_log, bins=25, edgecolor='white', density=True, color='orange', label='Якутскэнрг')\n",
    "f_norm = sts.norm(m,s).pdf(x)\n",
    "plt.plot(x,f_norm, c='r', lw=2, label='Norm')\n",
    "plt.legend()\n",
    "\n",
    "# Сбербанк\n",
    "m = log_income.SBER_log.mean()\n",
    "s = log_income.SBER_log.std() \n",
    "xmin = np.quantile(log_income.SBER_log, 0.01) \n",
    "xmax = np.quantile(log_income.SBER_log, 0.99)\n",
    "x = np.linspace(xmin, xmax, 100)\n",
    "plt.subplot(1, 3, 3)\n",
    "plt.hist(log_income.SBER_log, bins=25, edgecolor='white', density=True, color='g', label='Сбербанк')\n",
    "f_norm = sts.norm(m,s).pdf(x)\n",
    "plt.plot(x,f_norm, c='r', lw=2, label='Norm') \n",
    "plt.legend()"
   ]
  },
  {
   "cell_type": "markdown",
   "metadata": {},
   "source": [
    "**Без выбросов**"
   ]
  },
  {
   "cell_type": "code",
   "execution_count": 70,
   "metadata": {},
   "outputs": [
    {
     "data": {
      "text/plain": [
       "<matplotlib.legend.Legend at 0x7f1ab89be4a8>"
      ]
     },
     "execution_count": 70,
     "metadata": {},
     "output_type": "execute_result"
    },
    {
     "data": {
      "image/png": "[encoded data removed]",
      "text/plain": [
       "<Figure size 1296x288 with 3 Axes>"
      ]
     },
     "metadata": {
      "needs_background": "light"
     },
     "output_type": "display_data"
    }
   ],
   "source": [
    "plt.figure(figsize=(18, 4))\n",
    "\n",
    "# Мегион-ао\n",
    "m = log_income_out.MFGS_log.mean()\n",
    "s = log_income_out.MFGS_log.std()\n",
    "xmin = np.quantile(log_income_out.MFGS_log, 0.01)\n",
    "xmax = np.quantile(log_income_out.MFGS_log, 0.99)\n",
    "x = np.linspace(xmin, xmax, 100)\n",
    "plt.subplot(1, 3, 1)\n",
    "plt.hist(log_income_out.MFGS_log, bins=25, edgecolor='white', density=True, color='b', label='Мегион-ао')\n",
    "f_norm = sts.norm(m,s).pdf(x) \n",
    "plt.plot(x,f_norm, c='r', lw=2, label='Norm')\n",
    "plt.legend()\n",
    "\n",
    "# Якутскэнрг\n",
    "m = log_income_out.YKEN_log.mean()\n",
    "s = log_income_out.YKEN_log.std()\n",
    "xmin = np.quantile(log_income_out.YKEN_log, 0.01)\n",
    "xmax = np.quantile(log_income_out.YKEN_log, 0.99)\n",
    "x = np.linspace(xmin, xmax, 100)\n",
    "plt.subplot(1, 3, 2)\n",
    "plt.hist(log_income_out.YKEN_log, bins=25, edgecolor='white', density=True, color='orange', label='Якутскэнрг')\n",
    "f_norm = sts.norm(m,s).pdf(x)\n",
    "plt.plot(x,f_norm, c='r', lw=2, label='Norm')\n",
    "plt.legend()\n",
    "\n",
    "# Сбербанк\n",
    "m = log_income_out.SBER_log.mean()\n",
    "s = log_income_out.SBER_log.std() \n",
    "xmin = np.quantile(log_income_out.SBER_log, 0.01) \n",
    "xmax = np.quantile(log_income_out.SBER_log, 0.99)\n",
    "x = np.linspace(xmin, xmax, 100)\n",
    "plt.subplot(1, 3, 3)\n",
    "plt.hist(log_income_out.SBER_log, bins=25, edgecolor='white', density=True, color='g', label='Сбербанк')\n",
    "f_norm = sts.norm(m,s).pdf(x)\n",
    "plt.plot(x,f_norm, c='r', lw=2, label='Norm') \n",
    "plt.legend()"
   ]
  },
  {
   "cell_type": "markdown",
   "metadata": {},
   "source": [
    "## 8. Доверительные интервалы\n",
    "### Для математического ожидания\n",
    "Интервальная оценка математического ожидания 𝐄(𝑋) случайной величины X при неизвестной дисперсии (𝑥 − 𝑡𝑛−1;(1+𝛾)/2𝑠√𝑛; 𝑥 + 𝑡𝑛−1;(1+𝛾)/2𝑠√𝑛), 𝑡𝑛−1;(1+𝛾)/2 – квантиль распределения Стьюдент с (𝑛 − 1) степенью свободы уровня 1+𝛾2; 𝑠 – исправленное выборочное среднее квадратическое отклонение случайной величины X.\n",
    "\n",
    "**С выбросами**\n",
    "\n",
    "Приведенная ниже функция вычисляет доверительный интервал для математического ожидания по выборке x с доверительной\n",
    "вероятностью gamma (по умолчанию 0,95)"
   ]
  },
  {
   "cell_type": "code",
   "execution_count": 71,
   "metadata": {},
   "outputs": [],
   "source": [
    "def mean_confidence_interval(x, gamma=0.95):\n",
    "    x = np.asarray(x) # выборка переводится в формат массива numpy\n",
    "    n = len(x)\n",
    "    a, s = np.mean(x), sts.sem(x) # Функция scipy.stats.sem(a) вычисляет стандартное отклонение выборочного среднего\n",
    "    h = s * sts.t.ppf((1 + gamma)/2, n-1)\n",
    "    return a - h, a + h"
   ]
  },
  {
   "cell_type": "code",
   "execution_count": 72,
   "metadata": {},
   "outputs": [
    {
     "name": "stdout",
     "output_type": "stream",
     "text": [
      "Доверительный интервал для логдоходности компании Мегион-ао (по среднему значению, с выбросами)\n",
      "от: -0.0015 до: 0.0014\n",
      "\n",
      "Доверительный интервал для логдоходности компании Якутскэнрг (по среднему значению, с выбросами)\n",
      "от: -0.0018 до: 0.0022\n",
      "\n",
      "Доверительный интервал для логдоходности компании Сбербанк (по среднему значению, с выбросами)\n",
      "от: -0.0008 до: 0.002\n"
     ]
    }
   ],
   "source": [
    "print('Доверительный интервал для логдоходности компании Мегион-ао (по среднему значению, с выбросами)\\nот:', \n",
    "      mean_confidence_interval(log_income.MFGS_log)[0].round(4), 'до:', mean_confidence_interval(log_income.MFGS_log)[1].round(4))\n",
    "print('\\nДоверительный интервал для логдоходности компании Якутскэнрг (по среднему значению, с выбросами)\\nот:', \n",
    "      mean_confidence_interval(log_income.YKEN_log)[0].round(4), 'до:', mean_confidence_interval(log_income.YKEN_log)[1].round(4))\n",
    "print('\\nДоверительный интервал для логдоходности компании Сбербанк (по среднему значению, с выбросами)\\nот:', \n",
    "      mean_confidence_interval(log_income.SBER_log)[0].round(4), 'до:', mean_confidence_interval(log_income.SBER_log)[1].round(4))"
   ]
  },
  {
   "cell_type": "markdown",
   "metadata": {},
   "source": [
    "**Без выбросов**"
   ]
  },
  {
   "cell_type": "code",
   "execution_count": 73,
   "metadata": {},
   "outputs": [
    {
     "name": "stdout",
     "output_type": "stream",
     "text": [
      "Доверительный интервал для логдоходности компании Мегион-ао (по среднему значению, без выбросов)\n",
      "от: -0.0016 до: 0.0004\n",
      "\n",
      "Доверительный интервал для логдоходности компании Якутскэнрг (по среднему значению, без выбросов)\n",
      "от: -0.0022 до: -0.0\n",
      "\n",
      "Доверительный интервал для логдоходности компании Сбербанк (по среднему значению, без выбросов)\n",
      "от: 0.0007 до: 0.0025\n"
     ]
    }
   ],
   "source": [
    "print('Доверительный интервал для логдоходности компании Мегион-ао (по среднему значению, без выбросов)\\nот:', \n",
    "      mean_confidence_interval(log_income_out.MFGS_log)[0].round(4), 'до:', mean_confidence_interval(log_income_out.MFGS_log)[1].round(4))\n",
    "print('\\nДоверительный интервал для логдоходности компании Якутскэнрг (по среднему значению, без выбросов)\\nот:', \n",
    "      mean_confidence_interval(log_income_out.YKEN_log)[0].round(4), 'до:', mean_confidence_interval(log_income_out.YKEN_log)[1].round(4))\n",
    "print('\\nДоверительный интервал для логдоходности компании Сбербанк (по среднему значению, без выбросов)\\nот:', \n",
    "      mean_confidence_interval(log_income_out.SBER_log)[0].round(4), 'до:', mean_confidence_interval(log_income_out.SBER_log)[1].round(4))"
   ]
  },
  {
   "cell_type": "markdown",
   "metadata": {},
   "source": [
    "### Для стандартного отклонения\n",
    "Приведенная ниже функция вычисляет доверительный интервал для дисперсии по выборке x с доверительной вероятностью gamma (по\n",
    "умолчанию 0,95)"
   ]
  },
  {
   "cell_type": "code",
   "execution_count": 74,
   "metadata": {},
   "outputs": [],
   "source": [
    "def var_confidence_interval(x, gamma = 0.95):\n",
    "    x = np.asarray(x)\n",
    "    n = len(x)\n",
    "#   Квантили\n",
    "    chi_1 = sts.chi2(df=n-1).ppf((1 + gamma) / 2)\n",
    "    chi_2 = sts.chi2(df=n-1).ppf((1 - gamma) / 2)\n",
    "#     Исправленная выборочная дисперсия\n",
    "    var = np.var(x, ddof = 1)\n",
    "    b1 = (n - 1) * var / chi_1\n",
    "    b2 = (n - 1) * var / chi_2\n",
    "    return b1, b2"
   ]
  },
  {
   "cell_type": "markdown",
   "metadata": {},
   "source": [
    "**С выбросами**"
   ]
  },
  {
   "cell_type": "code",
   "execution_count": 75,
   "metadata": {},
   "outputs": [
    {
     "name": "stdout",
     "output_type": "stream",
     "text": [
      "Доверительный интервал для логдоходности компании Мегион-ао (по ст. отклонению, с выбросами)\n",
      "от: 0.0283 до: 0.0304\n",
      "Доверительный интервал для логдоходности компании Якутскэнрг (по ст. отклонению, с выбросами)\n",
      "от: 0.0385 до: 0.0413\n",
      "Доверительный интервал для логдоходности компании Сбербанк (по ст. отклонению, с выбросами)\n",
      "от: 0.0268 до: 0.0288\n"
     ]
    }
   ],
   "source": [
    "Int = var_confidence_interval(log_income.MFGS_log)\n",
    "print('Доверительный интервал для логдоходности компании Мегион-ао (по ст. отклонению, с выбросами)\\nот:', \n",
    "      np.sqrt(Int[0]).round(4), 'до:', np.sqrt(Int[1]).round(4))\n",
    "\n",
    "Int2 = var_confidence_interval(log_income.YKEN_log)\n",
    "print('Доверительный интервал для логдоходности компании Якутскэнрг (по ст. отклонению, с выбросами)\\nот:', \n",
    "      np.sqrt(Int2[0]).round(4), 'до:', np.sqrt(Int2[1]).round(4))\n",
    "\n",
    "Int3 = var_confidence_interval(log_income.SBER_log)\n",
    "print('Доверительный интервал для логдоходности компании Сбербанк (по ст. отклонению, с выбросами)\\nот:', \n",
    "      np.sqrt(Int3[0]).round(4), 'до:', np.sqrt(Int3[1]).round(4))"
   ]
  },
  {
   "cell_type": "markdown",
   "metadata": {},
   "source": [
    "**Без выбросов**"
   ]
  },
  {
   "cell_type": "code",
   "execution_count": 76,
   "metadata": {},
   "outputs": [
    {
     "name": "stdout",
     "output_type": "stream",
     "text": [
      "Доверительный интервал для логдоходности компании Мегион-ао (по ст. отклонению, без выбросов)\n",
      "от: 0.018 до: 0.0195\n",
      "Доверительный интервал для логдоходности компании Якутскэнрг (по ст. отклонению, без выбросов)\n",
      "от: 0.0194 до: 0.021\n",
      "Доверительный интервал для логдоходности компании Сбербанк (по ст. отклонению, без выбросов)\n",
      "от: 0.0158 до: 0.0171\n"
     ]
    }
   ],
   "source": [
    "Int = var_confidence_interval(log_income_out.MFGS_log)\n",
    "print('Доверительный интервал для логдоходности компании Мегион-ао (по ст. отклонению, без выбросов)\\nот:', \n",
    "      np.sqrt(Int[0]).round(4), 'до:', np.sqrt(Int[1]).round(4))\n",
    "\n",
    "Int2 = var_confidence_interval(log_income_out.YKEN_log)\n",
    "print('Доверительный интервал для логдоходности компании Якутскэнрг (по ст. отклонению, без выбросов)\\nот:', \n",
    "      np.sqrt(Int2[0]).round(4), 'до:', np.sqrt(Int2[1]).round(4))\n",
    "\n",
    "Int3 = var_confidence_interval(log_income_out.SBER_log)\n",
    "print('Доверительный интервал для логдоходности компании Сбербанк (по ст. отклонению, без выбросов)\\nот:', \n",
    "      np.sqrt(Int3[0]).round(4), 'до:', np.sqrt(Int3[1]).round(4))"
   ]
  },
  {
   "cell_type": "markdown",
   "metadata": {},
   "source": [
    "## 9. Проверка гипотезы о нулевом значении математического ожидания логдоходности"
   ]
  },
  {
   "cell_type": "markdown",
   "metadata": {},
   "source": [
    "Проверяется гипотеза о том, что математическое ожидание логдоходности равно нулю при альтернативной гипотезе о том, что оно больше нуля:\n",
    "* 𝐻0: 𝐄(𝑋) = 0\n",
    "\n",
    "против \n",
    "\n",
    "* 𝐻1: 𝐄(𝑋) > 0\n",
    "\n",
    "на уровне значимости 𝛼 (𝛼 = 0,05 и 0,01).\n",
    "\n",
    "Статистика критерия: 𝑇 = (𝑋−0)√𝑛𝑠, n – объем выборки, 𝑋 – выборочное среднее, s – выборочное исправленное среднее квадратическое отклонение. Критическая область 𝑅 задается соотношением\n",
    "𝑇набл = (𝑥 − 0)√𝑛𝑠 > 𝑡𝑛−1;1−𝛼, где 𝑡𝑛−1;1−𝛼 – квантиль распределения Стьюдента с 𝑛 − 1 степенью свободы уровня 1 − 𝛼.\n",
    "Приведенная ниже функция student_test() проверяет гипотезу 𝐻0: 𝐄(𝑋) = 𝑚0 против альтернатив вида 𝐻1: 𝐄(𝑋) <≠> 𝑚0. Возвращает наблюдаемое значение статистики и значение p-value."
   ]
  },
  {
   "cell_type": "markdown",
   "metadata": {},
   "source": [
    "### Для каждой компании  "
   ]
  },
  {
   "cell_type": "code",
   "execution_count": 77,
   "metadata": {},
   "outputs": [],
   "source": [
    "def student_test(x, m_0, alternative = 'two-sided'):\n",
    "    if alternative not in ('two-sided', 'less', 'greater'):\n",
    "        raise ValueError(\"Альтернатива должна быть одной из: 'two-sided', 'less' или 'greater'\")\n",
    "    x = np.asarray(x)\n",
    "    n = float(len(x))\n",
    "    m = x.mean()\n",
    "    s = x.std() * (n / (n-1)) ** 0.5\n",
    "    t = (m - m_0) * np.sqrt(n) / s\n",
    "    if alternative == 'two-sided':\n",
    "        return t, 2 * (1 - sts.t.cdf(np.abs(t), n-1))\n",
    "    if alternative == 'less':\n",
    "        return t, sts.t.cdf(t, n-1)\n",
    "    if alternative == 'greater':\n",
    "        return t, 1 - sts.t.cdf(t, n-1)"
   ]
  },
  {
   "cell_type": "code",
   "execution_count": 78,
   "metadata": {},
   "outputs": [],
   "source": [
    "def check_p_value(p_value, name):\n",
    "    if p_value > 0.05:\n",
    "        print(f'Для логдоходности {name} p-значение больше 0,05. Нулевая гипотеза принимается на обоих уровнях значимости')\n",
    "    elif 0.01 < p_value < 0.05:\n",
    "        print(f'Для логдоходности {name} p-значение больше 0,01. Нулевая гипотеза принимается на 1%-м уровне значимости')\n",
    "    else:\n",
    "        print(f'Для логдоходности {name} p-значение меньше 0,01. Нулевая гипотеза отклоняется')"
   ]
  },
  {
   "cell_type": "markdown",
   "metadata": {},
   "source": [
    "**Для данных с выбросами**"
   ]
  },
  {
   "cell_type": "code",
   "execution_count": 79,
   "metadata": {},
   "outputs": [
    {
     "name": "stdout",
     "output_type": "stream",
     "text": [
      "Для логдоходности Мегион-ао p-значение больше 0,05. Нулевая гипотеза принимается на обоих уровнях значимости\n",
      "Для логдоходности Якутскэнрг p-значение больше 0,05. Нулевая гипотеза принимается на обоих уровнях значимости\n",
      "Для логдоходности Сбербанк p-значение больше 0,05. Нулевая гипотеза принимается на обоих уровнях значимости\n"
     ]
    }
   ],
   "source": [
    "MFGS_tt = student_test(log_income.MFGS_log, m_0 = 0, alternative = 'two-sided')[1]\n",
    "YKEN_tt = student_test(log_income.YKEN_log, m_0 = 0, alternative = 'two-sided')[1]\n",
    "SBER_tt = student_test(log_income.SBER_log, m_0 = 0, alternative = 'two-sided')[1]\n",
    "check_p_value(MFGS_tt, 'Мегион-ао')\n",
    "check_p_value(YKEN_tt, 'Якутскэнрг')\n",
    "check_p_value(SBER_tt, 'Сбербанк')"
   ]
  },
  {
   "cell_type": "markdown",
   "metadata": {},
   "source": [
    "**Для данных без выбросов**"
   ]
  },
  {
   "cell_type": "code",
   "execution_count": 80,
   "metadata": {
    "scrolled": true
   },
   "outputs": [
    {
     "name": "stdout",
     "output_type": "stream",
     "text": [
      "Для логдоходности Мегион-ао p-значение больше 0,05. Нулевая гипотеза принимается на обоих уровнях значимости\n",
      "Для логдоходности Якутскэнрг p-значение больше 0,01. Нулевая гипотеза принимается на 1%-м уровне значимости\n",
      "Для логдоходности Сбербанк p-значение меньше 0,01. Нулевая гипотеза отклоняется\n"
     ]
    }
   ],
   "source": [
    "MFGS_tt = student_test(log_income_out.MFGS_log, m_0 = 0, alternative = 'two-sided')[1]\n",
    "YKEN_tt = student_test(log_income_out.YKEN_log, m_0 = 0, alternative = 'two-sided')[1]\n",
    "SBER_tt = student_test(log_income_out.SBER_log, m_0 = 0, alternative = 'two-sided')[1]\n",
    "check_p_value(MFGS_tt, 'Мегион-ао')\n",
    "check_p_value(YKEN_tt, 'Якутскэнрг')\n",
    "check_p_value(SBER_tt, 'Сбербанк')"
   ]
  },
  {
   "cell_type": "markdown",
   "metadata": {},
   "source": [
    "## 9.1 Проверка гипотезы о равенстве математических ожиданий логдоходности\n",
    "### Для каждой пары компаний "
   ]
  },
  {
   "cell_type": "markdown",
   "metadata": {},
   "source": [
    "**Нулевая гипотеза:** математические ожидания логдоходностей равны между собой\n",
    "\n",
    "**Альтернативная гипотеза:** математические ожидания логдоходностей отличаются\n",
    "\n",
    "на уровне значимости 𝛼 = 0,05 и 𝛼 = 0,01"
   ]
  },
  {
   "cell_type": "markdown",
   "metadata": {},
   "source": [
    "**Для данных с выбросами**"
   ]
  },
  {
   "cell_type": "code",
   "execution_count": 85,
   "metadata": {},
   "outputs": [
    {
     "name": "stdout",
     "output_type": "stream",
     "text": [
      "Для логдоходности Мегион-ао и Якутскэнрг p-значение больше 0,05. Нулевая гипотеза принимается на обоих уровнях значимости\n",
      "Для логдоходности Якутскэнрг и Сбербанк p-значение больше 0,05. Нулевая гипотеза принимается на обоих уровнях значимости\n",
      "Для логдоходности Сбербанк и Мегион-ао p-значение больше 0,05. Нулевая гипотеза принимается на обоих уровнях значимости\n"
     ]
    }
   ],
   "source": [
    "tt_MFGS_YKEN = sts.ttest_ind(log_income.MFGS_log, log_income.YKEN_log)[1]\n",
    "tt_YKEN_SBER = sts.ttest_ind(log_income.YKEN_log, log_income.SBER_log)[1]\n",
    "tt_SBER_MFGS = sts.ttest_ind(log_income.SBER_log, log_income.MFGS_log)[1]\n",
    "check_p_value(tt_MFGS_YKEN, 'Мегион-ао и Якутскэнрг')\n",
    "check_p_value(tt_YKEN_SBER, 'Якутскэнрг и Сбербанк')\n",
    "check_p_value(tt_SBER_MFGS, 'Сбербанк и Мегион-ао')"
   ]
  },
  {
   "cell_type": "markdown",
   "metadata": {},
   "source": [
    "**Для данных без выбросов**"
   ]
  },
  {
   "cell_type": "code",
   "execution_count": 86,
   "metadata": {},
   "outputs": [
    {
     "name": "stdout",
     "output_type": "stream",
     "text": [
      "Для логдоходности Мегион-ао и Якутскэнрг p-значение больше 0,05. Нулевая гипотеза принимается на обоих уровнях значимости\n",
      "Для логдоходности Якутскэнрг и Сбербанк p-значение меньше 0,01. Нулевая гипотеза отклоняется\n",
      "Для логдоходности Сбербанк и Мегион-ао p-значение меньше 0,01. Нулевая гипотеза отклоняется\n"
     ]
    }
   ],
   "source": [
    "tt_MFGS_YKEN = sts.ttest_ind(log_income_out.MFGS_log, log_income_out.YKEN_log)[1]\n",
    "tt_YKEN_SBER = sts.ttest_ind(log_income_out.YKEN_log, log_income_out.SBER_log)[1]\n",
    "tt_SBER_MFGS = sts.ttest_ind(log_income_out.SBER_log, log_income_out.MFGS_log)[1]\n",
    "check_p_value(tt_MFGS_YKEN, 'Мегион-ао и Якутскэнрг')\n",
    "check_p_value(tt_YKEN_SBER, 'Якутскэнрг и Сбербанк')\n",
    "check_p_value(tt_SBER_MFGS, 'Сбербанк и Мегион-ао')"
   ]
  },
  {
   "cell_type": "markdown",
   "metadata": {},
   "source": [
    "## 9.2 Проверка гипотезы о равенстве дисперсий логдоходности\n",
    "**Нулевая гипотеза:** дисперсии логдоходностей равны между собой\n",
    "\n",
    "**Альтернативная гипотеза:** дисперсии логдоходностей отличаются\n",
    "\n",
    "на уровне значимости 𝛼 = 0,05 и 𝛼 = 0,01"
   ]
  },
  {
   "cell_type": "markdown",
   "metadata": {},
   "source": [
    "**Для данных с выбросами**"
   ]
  },
  {
   "cell_type": "code",
   "execution_count": 89,
   "metadata": {},
   "outputs": [
    {
     "name": "stdout",
     "output_type": "stream",
     "text": [
      "Для логдоходности Мегион-ао и Якутскэнрг p-значение меньше 0,01. Нулевая гипотеза отклоняется\n",
      "Для логдоходности Якутскэнрг и Сбербанк p-значение меньше 0,01. Нулевая гипотеза отклоняется\n",
      "Для логдоходности Сбербанк и Мегион-ао p-значение больше 0,01. Нулевая гипотеза принимается на 1%-м уровне значимости\n"
     ]
    }
   ],
   "source": [
    "# cЗдесь используется функция sts.bartlett(), которая вычисляет статистику Бартлетта для проверки гипотезы о равенстве дисперсий двух выборок\n",
    "tt_MFGS_YKEN = sts.bartlett(log_income.MFGS_log, log_income.YKEN_log)[1]\n",
    "tt_YKEN_SBER = sts.bartlett(log_income.YKEN_log, log_income.SBER_log)[1]\n",
    "tt_SBER_MFGS = sts.bartlett(log_income.SBER_log, log_income.MFGS_log)[1]\n",
    "check_p_value(tt_MFGS_YKEN, 'Мегион-ао и Якутскэнрг')\n",
    "check_p_value(tt_YKEN_SBER, 'Якутскэнрг и Сбербанк')\n",
    "check_p_value(tt_SBER_MFGS, 'Сбербанк и Мегион-ао')"
   ]
  },
  {
   "cell_type": "markdown",
   "metadata": {},
   "source": [
    "**Для данных без выбросов**"
   ]
  },
  {
   "cell_type": "code",
   "execution_count": 90,
   "metadata": {},
   "outputs": [
    {
     "name": "stdout",
     "output_type": "stream",
     "text": [
      "Для логдоходности Мегион-ао и Якутскэнрг p-значение больше 0,01. Нулевая гипотеза принимается на 1%-м уровне значимости\n",
      "Для логдоходности Якутскэнрг и Сбербанк p-значение меньше 0,01. Нулевая гипотеза отклоняется\n",
      "Для логдоходности Сбербанк и Мегион-ао p-значение меньше 0,01. Нулевая гипотеза отклоняется\n"
     ]
    }
   ],
   "source": [
    "tt_MFGS_YKEN = sts.bartlett(log_income_out.MFGS_log, log_income_out.YKEN_log)[1]\n",
    "tt_YKEN_SBER = sts.bartlett(log_income_out.YKEN_log, log_income_out.SBER_log)[1]\n",
    "tt_SBER_MFGS = sts.bartlett(log_income_out.SBER_log, log_income_out.MFGS_log)[1]\n",
    "check_p_value(tt_MFGS_YKEN, 'Мегион-ао и Якутскэнрг')\n",
    "check_p_value(tt_YKEN_SBER, 'Якутскэнрг и Сбербанк')\n",
    "check_p_value(tt_SBER_MFGS, 'Сбербанк и Мегион-ао')"
   ]
  },
  {
   "cell_type": "markdown",
   "metadata": {},
   "source": [
    "## 10. Проверка гипотезы о нормальном законе распределения логдоходности\n",
    "Для данных без удаления выбросов. Проверяется гипотеза 𝐻0: 𝐹𝑋(𝑥) = 𝐹теор(𝑥) против альтернативы 𝐻1: 𝐹𝑋(𝑥) = 𝐹теор(𝑥) на уровне значимости 𝛼 = 0,05 , где 𝐹теор(𝑥) – функция распределения нормального закона. \n",
    "Такую гипотезу можно проверить с помощью критерия Лиллиефорса. Соответствующая функция: lilliefors модуля statsmodels.stats.api\n",
    "\n",
    "Нулевая гипотеза отклоняется при любых значениях уровня значимости.\n",
    "\n",
    "**С выбросами**"
   ]
  },
  {
   "cell_type": "code",
   "execution_count": 91,
   "metadata": {},
   "outputs": [],
   "source": [
    "from statsmodels.stats.api import lilliefors"
   ]
  },
  {
   "cell_type": "code",
   "execution_count": 92,
   "metadata": {},
   "outputs": [
    {
     "name": "stdout",
     "output_type": "stream",
     "text": [
      "k: 0.082 p-value: 0.001\n"
     ]
    }
   ],
   "source": [
    "k, p = lilliefors(log_income.MFGS_log)\n",
    "print('k: %.3f p-value: %.3f' % (k, p))"
   ]
  },
  {
   "cell_type": "code",
   "execution_count": 93,
   "metadata": {},
   "outputs": [
    {
     "name": "stdout",
     "output_type": "stream",
     "text": [
      "k: 0.131 p-value: 0.001\n"
     ]
    }
   ],
   "source": [
    "k, p = lilliefors(log_income.YKEN_log)\n",
    "print('k: %.3f p-value: %.3f' % (k, p))"
   ]
  },
  {
   "cell_type": "code",
   "execution_count": 95,
   "metadata": {},
   "outputs": [
    {
     "name": "stdout",
     "output_type": "stream",
     "text": [
      "k: 0.117 p-value: 0.001\n"
     ]
    }
   ],
   "source": [
    "k, p = lilliefors(log_income.SBER_log)\n",
    "print('k: %.3f p-value: %.3f' % (k, p))"
   ]
  },
  {
   "cell_type": "markdown",
   "metadata": {},
   "source": [
    "### 10.1*. Без выбросов"
   ]
  },
  {
   "cell_type": "code",
   "execution_count": 96,
   "metadata": {},
   "outputs": [
    {
     "name": "stdout",
     "output_type": "stream",
     "text": [
      "k: 0.033 p-value: 0.004\n"
     ]
    }
   ],
   "source": [
    "k, p = lilliefors(log_income_out.MFGS_log)\n",
    "print('k: %.3f p-value: %.3f' % (k, p))"
   ]
  },
  {
   "cell_type": "code",
   "execution_count": 97,
   "metadata": {},
   "outputs": [
    {
     "name": "stdout",
     "output_type": "stream",
     "text": [
      "k: 0.054 p-value: 0.001\n"
     ]
    }
   ],
   "source": [
    "k, p = lilliefors(log_income_out.YKEN_log)\n",
    "print('k: %.3f p-value: %.3f' % (k, p))"
   ]
  },
  {
   "cell_type": "code",
   "execution_count": 98,
   "metadata": {},
   "outputs": [
    {
     "name": "stdout",
     "output_type": "stream",
     "text": [
      "k: 0.037 p-value: 0.001\n"
     ]
    }
   ],
   "source": [
    "k, p = lilliefors(log_income_out.SBER_log)\n",
    "print('k: %.3f p-value: %.3f' % (k, p))"
   ]
  },
  {
   "cell_type": "code",
   "execution_count": null,
   "metadata": {},
   "outputs": [],
   "source": []
  },
  {
   "cell_type": "code",
   "execution_count": null,
   "metadata": {},
   "outputs": [],
   "source": []
  },
  {
   "cell_type": "code",
   "execution_count": null,
   "metadata": {},
   "outputs": [],
   "source": []
  }
 ],
 "metadata": {
  "kernelspec": {
   "display_name": "Python 3",
   "language": "python",
   "name": "python3"
  },
  "language_info": {
   "codemirror_mode": {
    "name": "ipython",
    "version": 3
   },
   "file_extension": ".py",
   "mimetype": "text/x-python",
   "name": "python",
   "nbconvert_exporter": "python",
   "pygments_lexer": "ipython3",
   "version": "3.7.3"
  }
 },
 "nbformat": 4,
 "nbformat_minor": 4
}
